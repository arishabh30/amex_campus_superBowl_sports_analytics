{
 "cells": [
  {
   "cell_type": "code",
   "execution_count": 27,
   "metadata": {},
   "outputs": [],
   "source": [
    "#!/usr/bin/env python\n",
    "# coding: utf-8\n",
    "\n",
    "# In[1]:\n",
    "\n",
    "\n",
    "## Print multiple output per cell\n",
    "from IPython.core.interactiveshell import InteractiveShell\n",
    "InteractiveShell.ast_node_interactivity = 'all'"
   ]
  },
  {
   "cell_type": "code",
   "execution_count": 28,
   "metadata": {},
   "outputs": [],
   "source": [
    "# In[2]:\n",
    "## Importing libraries\n",
    "# !pip install tqdm\n",
    "import pandas as pd\n",
    "import numpy as np\n",
    "from tqdm import tqdm\n",
    "tqdm.pandas()"
   ]
  },
  {
   "cell_type": "code",
   "execution_count": 29,
   "metadata": {},
   "outputs": [],
   "source": [
    "# In[3]:\n",
    "\n",
    "\n",
    "## Pandas Display options\n",
    "pd.set_option('display.max_columns',0)\n",
    "pd.set_option('display.max_colwidth',0)\n",
    "\n",
    "\n",
    "# ## Read data"
   ]
  },
  {
   "cell_type": "code",
   "execution_count": 30,
   "metadata": {},
   "outputs": [],
   "source": [
    "# In[4]:\n",
    "\n",
    "\n",
    "## Reading relevant data\n",
    "match_lvl_data = pd.read_csv('/home/rishabh/Desktop/codes/Amex_campus_super_bowl/match_level_scorecard.csv')\n",
    "batsman_lvl_data = pd.read_csv('/home/rishabh/Desktop/codes/Amex_campus_super_bowl/batsman_level_scorecard.csv')\n",
    "bowler_lvl_data = pd.read_csv('/home/rishabh/Desktop/codes/Amex_campus_super_bowl/bowler_level_scorecard.csv')\n",
    "train_data = pd.read_csv('/home/rishabh/Desktop/codes/Amex_campus_super_bowl/train_data_with_samplefeatures.csv')\n",
    "test_data = pd.read_csv('/home/rishabh/Desktop/codes/Amex_campus_super_bowl/round2/667a986f0b981_r2_data_with_samplefeatures.csv')"
   ]
  },
  {
   "cell_type": "code",
   "execution_count": 31,
   "metadata": {},
   "outputs": [
    {
     "data": {
      "text/plain": [
       "(1689, 30)"
      ]
     },
     "execution_count": 31,
     "metadata": {},
     "output_type": "execute_result"
    },
    {
     "data": {
      "text/html": [
       "<div>\n",
       "<style scoped>\n",
       "    .dataframe tbody tr th:only-of-type {\n",
       "        vertical-align: middle;\n",
       "    }\n",
       "\n",
       "    .dataframe tbody tr th {\n",
       "        vertical-align: top;\n",
       "    }\n",
       "\n",
       "    .dataframe thead th {\n",
       "        text-align: right;\n",
       "    }\n",
       "</style>\n",
       "<table border=\"1\" class=\"dataframe\">\n",
       "  <thead>\n",
       "    <tr style=\"text-align: right;\">\n",
       "      <th></th>\n",
       "      <th>match id</th>\n",
       "      <th>team1</th>\n",
       "      <th>team2</th>\n",
       "      <th>winner</th>\n",
       "      <th>by</th>\n",
       "      <th>win amount</th>\n",
       "      <th>toss winner</th>\n",
       "      <th>toss decision</th>\n",
       "      <th>venue</th>\n",
       "      <th>city</th>\n",
       "      <th>match_dt</th>\n",
       "      <th>lighting</th>\n",
       "      <th>series_name</th>\n",
       "      <th>season</th>\n",
       "      <th>ground_id</th>\n",
       "      <th>umpire1</th>\n",
       "      <th>umpire2</th>\n",
       "      <th>inning1_runs</th>\n",
       "      <th>inning1_wickets</th>\n",
       "      <th>inning1_balls</th>\n",
       "      <th>inning2_runs</th>\n",
       "      <th>inning2_wickets</th>\n",
       "      <th>inning2_balls</th>\n",
       "      <th>team1_id</th>\n",
       "      <th>team1_roster_ids</th>\n",
       "      <th>team2_id</th>\n",
       "      <th>team2_roster_ids</th>\n",
       "      <th>series_type</th>\n",
       "      <th>winner_id</th>\n",
       "      <th>player_of_the_match_id</th>\n",
       "    </tr>\n",
       "  </thead>\n",
       "  <tbody>\n",
       "    <tr>\n",
       "      <th>0</th>\n",
       "      <td>8638034</td>\n",
       "      <td>Nn Ds</td>\n",
       "      <td>Wn</td>\n",
       "      <td>Wn</td>\n",
       "      <td>wickets</td>\n",
       "      <td>9</td>\n",
       "      <td>Wn</td>\n",
       "      <td>field</td>\n",
       "      <td>By Ol</td>\n",
       "      <td>Mount Maunganui</td>\n",
       "      <td>2021-01-01</td>\n",
       "      <td>night match</td>\n",
       "      <td>Sr Sh</td>\n",
       "      <td>2020/21</td>\n",
       "      <td>17681</td>\n",
       "      <td>Dn Mw</td>\n",
       "      <td>TJ Pe</td>\n",
       "      <td>148</td>\n",
       "      <td>6</td>\n",
       "      <td>130</td>\n",
       "      <td>152</td>\n",
       "      <td>1</td>\n",
       "      <td>97</td>\n",
       "      <td>17982</td>\n",
       "      <td>7907451.0:4381761.0:31464.0:258649.0:4949790.0:3834305.0:3776849.0:6718340.0:3566240.0:4950364.0:7543647.0</td>\n",
       "      <td>18570</td>\n",
       "      <td>2653993.0:6718326.0:6718382.0:2486896.0:2288789.0:4950224.0:8187878.0:3083667.0:4950294.0:6718396.0:1585464.0</td>\n",
       "      <td>other_domestic</td>\n",
       "      <td>18570</td>\n",
       "      <td>NaN</td>\n",
       "    </tr>\n",
       "    <tr>\n",
       "      <th>1</th>\n",
       "      <td>8588005</td>\n",
       "      <td>Me Rs</td>\n",
       "      <td>Sy Tr</td>\n",
       "      <td>Sy Tr</td>\n",
       "      <td>runs</td>\n",
       "      <td>7</td>\n",
       "      <td>Sy Tr</td>\n",
       "      <td>field</td>\n",
       "      <td>Ca Ol</td>\n",
       "      <td>Carrara</td>\n",
       "      <td>2021-01-01</td>\n",
       "      <td>night match</td>\n",
       "      <td>Bg Bh Le</td>\n",
       "      <td>2020/21</td>\n",
       "      <td>6663</td>\n",
       "      <td>D Tr</td>\n",
       "      <td>PJ Ge</td>\n",
       "      <td>166</td>\n",
       "      <td>6</td>\n",
       "      <td>106</td>\n",
       "      <td>117</td>\n",
       "      <td>2</td>\n",
       "      <td>74</td>\n",
       "      <td>33942</td>\n",
       "      <td>37351.0:46794.0:5406540.0:2231928.0:181404.0:1594319.0:7534687.0:7537067.0:1905847.0:8339701.0:7620346.0</td>\n",
       "      <td>33963</td>\n",
       "      <td>1506098.0:1749075.0:36665.0:2083409.0:7534652.0:5788320.0:1612610.0:5509524.0:5497274.0:3876613.0:8193310.0</td>\n",
       "      <td>other_domestic</td>\n",
       "      <td>33963</td>\n",
       "      <td>1749075.0</td>\n",
       "    </tr>\n",
       "  </tbody>\n",
       "</table>\n",
       "</div>"
      ],
      "text/plain": [
       "   match id  team1  team2  ...     series_type winner_id  player_of_the_match_id\n",
       "0  8638034   Nn Ds  Wn     ...  other_domestic  18570    NaN                    \n",
       "1  8588005   Me Rs  Sy Tr  ...  other_domestic  33963     1749075.0             \n",
       "\n",
       "[2 rows x 30 columns]"
      ]
     },
     "execution_count": 31,
     "metadata": {},
     "output_type": "execute_result"
    }
   ],
   "source": [
    "# Printing shape and sample rows of each dataset\n",
    "\n",
    "# In[5]:\n",
    "\n",
    "\n",
    "match_lvl_data.shape\n",
    "match_lvl_data.head(2)"
   ]
  },
  {
   "cell_type": "code",
   "execution_count": 32,
   "metadata": {},
   "outputs": [
    {
     "data": {
      "text/plain": [
       "(24483, 21)"
      ]
     },
     "execution_count": 32,
     "metadata": {},
     "output_type": "execute_result"
    },
    {
     "data": {
      "text/html": [
       "<div>\n",
       "<style scoped>\n",
       "    .dataframe tbody tr th:only-of-type {\n",
       "        vertical-align: middle;\n",
       "    }\n",
       "\n",
       "    .dataframe tbody tr th {\n",
       "        vertical-align: top;\n",
       "    }\n",
       "\n",
       "    .dataframe thead th {\n",
       "        text-align: right;\n",
       "    }\n",
       "</style>\n",
       "<table border=\"1\" class=\"dataframe\">\n",
       "  <thead>\n",
       "    <tr style=\"text-align: right;\">\n",
       "      <th></th>\n",
       "      <th>0</th>\n",
       "      <th>batsman</th>\n",
       "      <th>batsman_id</th>\n",
       "      <th>batsman_details</th>\n",
       "      <th>is_batsman_captain</th>\n",
       "      <th>is_batsman_keeper</th>\n",
       "      <th>inning</th>\n",
       "      <th>runs</th>\n",
       "      <th>balls_faced</th>\n",
       "      <th>over_faced_first</th>\n",
       "      <th>wicket kind</th>\n",
       "      <th>out_by_bowler</th>\n",
       "      <th>out_by_fielder</th>\n",
       "      <th>bowler_id</th>\n",
       "      <th>bowler_details</th>\n",
       "      <th>is_bowler_keeper</th>\n",
       "      <th>is_bowler_captain</th>\n",
       "      <th>strike_rate</th>\n",
       "      <th>Fours</th>\n",
       "      <th>Sixes</th>\n",
       "      <th>match_dt</th>\n",
       "    </tr>\n",
       "  </thead>\n",
       "  <tbody>\n",
       "    <tr>\n",
       "      <th>0</th>\n",
       "      <td>8638034</td>\n",
       "      <td>KD Ce</td>\n",
       "      <td>7907451</td>\n",
       "      <td>NZ:Right-hand bat:Right-arm medium-fast:</td>\n",
       "      <td>0</td>\n",
       "      <td>0</td>\n",
       "      <td>1</td>\n",
       "      <td>7</td>\n",
       "      <td>5</td>\n",
       "      <td>1.1</td>\n",
       "      <td>caught</td>\n",
       "      <td>JS Nm</td>\n",
       "      <td>TM Jn</td>\n",
       "      <td>2486896.0</td>\n",
       "      <td>NZ:Left-hand bat:Right-arm medium-fast:</td>\n",
       "      <td>0.0</td>\n",
       "      <td>0.0</td>\n",
       "      <td>140.0</td>\n",
       "      <td>1.0</td>\n",
       "      <td>NaN</td>\n",
       "      <td>2021-01-01</td>\n",
       "    </tr>\n",
       "    <tr>\n",
       "      <th>1</th>\n",
       "      <td>8638034</td>\n",
       "      <td>TL St</td>\n",
       "      <td>4381761</td>\n",
       "      <td>NZ:Right-hand bat:None:</td>\n",
       "      <td>0</td>\n",
       "      <td>1</td>\n",
       "      <td>1</td>\n",
       "      <td>46</td>\n",
       "      <td>46</td>\n",
       "      <td>1.2</td>\n",
       "      <td>caught</td>\n",
       "      <td>R Ra</td>\n",
       "      <td>MG Bl</td>\n",
       "      <td>6718382.0</td>\n",
       "      <td>NZ:Left-hand bat:Slow left-arm orthodox:</td>\n",
       "      <td>0.0</td>\n",
       "      <td>0.0</td>\n",
       "      <td>100.0</td>\n",
       "      <td>4.0</td>\n",
       "      <td>1.0</td>\n",
       "      <td>2021-01-01</td>\n",
       "    </tr>\n",
       "  </tbody>\n",
       "</table>\n",
       "</div>"
      ],
      "text/plain": [
       "         0 batsman  batsman_id  ... Fours  Sixes    match_dt\n",
       "0  8638034  KD Ce   7907451     ...  1.0  NaN     2021-01-01\n",
       "1  8638034  TL St   4381761     ...  4.0   1.0    2021-01-01\n",
       "\n",
       "[2 rows x 21 columns]"
      ]
     },
     "execution_count": 32,
     "metadata": {},
     "output_type": "execute_result"
    }
   ],
   "source": [
    "# In[6]:\n",
    "\n",
    "\n",
    "batsman_lvl_data.shape\n",
    "batsman_lvl_data.head(2)"
   ]
  },
  {
   "cell_type": "code",
   "execution_count": 33,
   "metadata": {},
   "outputs": [
    {
     "data": {
      "text/plain": [
       "(18539, 18)"
      ]
     },
     "execution_count": 33,
     "metadata": {},
     "output_type": "execute_result"
    },
    {
     "data": {
      "text/html": [
       "<div>\n",
       "<style scoped>\n",
       "    .dataframe tbody tr th:only-of-type {\n",
       "        vertical-align: middle;\n",
       "    }\n",
       "\n",
       "    .dataframe tbody tr th {\n",
       "        vertical-align: top;\n",
       "    }\n",
       "\n",
       "    .dataframe thead th {\n",
       "        text-align: right;\n",
       "    }\n",
       "</style>\n",
       "<table border=\"1\" class=\"dataframe\">\n",
       "  <thead>\n",
       "    <tr style=\"text-align: right;\">\n",
       "      <th></th>\n",
       "      <th>match id</th>\n",
       "      <th>bowler</th>\n",
       "      <th>bowler_id</th>\n",
       "      <th>bowler_details</th>\n",
       "      <th>is_bowler_captain</th>\n",
       "      <th>is_bowler_keeper</th>\n",
       "      <th>inning</th>\n",
       "      <th>runs</th>\n",
       "      <th>wicket_count</th>\n",
       "      <th>balls_bowled</th>\n",
       "      <th>economy</th>\n",
       "      <th>maiden</th>\n",
       "      <th>dots</th>\n",
       "      <th>Fours</th>\n",
       "      <th>Sixes</th>\n",
       "      <th>wides</th>\n",
       "      <th>noballs</th>\n",
       "      <th>match_dt</th>\n",
       "    </tr>\n",
       "  </thead>\n",
       "  <tbody>\n",
       "    <tr>\n",
       "      <th>0</th>\n",
       "      <td>8638034</td>\n",
       "      <td>BV Ss</td>\n",
       "      <td>6718396.0</td>\n",
       "      <td>NZ:Right-hand bat:Right-arm medium-fast:</td>\n",
       "      <td>0.0</td>\n",
       "      <td>0.0</td>\n",
       "      <td>1</td>\n",
       "      <td>21</td>\n",
       "      <td>0</td>\n",
       "      <td>12</td>\n",
       "      <td>10.5</td>\n",
       "      <td>0</td>\n",
       "      <td>3.0</td>\n",
       "      <td>1</td>\n",
       "      <td>1</td>\n",
       "      <td>3</td>\n",
       "      <td>1</td>\n",
       "      <td>2021-01-01</td>\n",
       "    </tr>\n",
       "    <tr>\n",
       "      <th>1</th>\n",
       "      <td>8638034</td>\n",
       "      <td>HK Bt</td>\n",
       "      <td>1585464.0</td>\n",
       "      <td>NZ:Left-hand bat:Right-arm medium-fast:</td>\n",
       "      <td>0.0</td>\n",
       "      <td>0.0</td>\n",
       "      <td>1</td>\n",
       "      <td>34</td>\n",
       "      <td>1</td>\n",
       "      <td>24</td>\n",
       "      <td>8.5</td>\n",
       "      <td>0</td>\n",
       "      <td>7.0</td>\n",
       "      <td>3</td>\n",
       "      <td>1</td>\n",
       "      <td>2</td>\n",
       "      <td>0</td>\n",
       "      <td>2021-01-01</td>\n",
       "    </tr>\n",
       "  </tbody>\n",
       "</table>\n",
       "</div>"
      ],
      "text/plain": [
       "   match id bowler  bowler_id  ... wides  noballs    match_dt\n",
       "0  8638034   BV Ss  6718396.0  ...  3     1        2021-01-01\n",
       "1  8638034   HK Bt  1585464.0  ...  2     0        2021-01-01\n",
       "\n",
       "[2 rows x 18 columns]"
      ]
     },
     "execution_count": 33,
     "metadata": {},
     "output_type": "execute_result"
    }
   ],
   "source": [
    "# In[7]:\n",
    "\n",
    "\n",
    "bowler_lvl_data.shape\n",
    "bowler_lvl_data.head(2)"
   ]
  },
  {
   "cell_type": "code",
   "execution_count": 34,
   "metadata": {},
   "outputs": [
    {
     "data": {
      "text/plain": [
       "(948, 35)"
      ]
     },
     "execution_count": 34,
     "metadata": {},
     "output_type": "execute_result"
    },
    {
     "data": {
      "text/html": [
       "<div>\n",
       "<style scoped>\n",
       "    .dataframe tbody tr th:only-of-type {\n",
       "        vertical-align: middle;\n",
       "    }\n",
       "\n",
       "    .dataframe tbody tr th {\n",
       "        vertical-align: top;\n",
       "    }\n",
       "\n",
       "    .dataframe thead th {\n",
       "        text-align: right;\n",
       "    }\n",
       "</style>\n",
       "<table border=\"1\" class=\"dataframe\">\n",
       "  <thead>\n",
       "    <tr style=\"text-align: right;\">\n",
       "      <th></th>\n",
       "      <th>match id</th>\n",
       "      <th>team1</th>\n",
       "      <th>team1_id</th>\n",
       "      <th>team1_roster_ids</th>\n",
       "      <th>team2</th>\n",
       "      <th>team2_id</th>\n",
       "      <th>team2_roster_ids</th>\n",
       "      <th>winner</th>\n",
       "      <th>winner_id</th>\n",
       "      <th>toss winner</th>\n",
       "      <th>toss decision</th>\n",
       "      <th>venue</th>\n",
       "      <th>city</th>\n",
       "      <th>match_dt</th>\n",
       "      <th>lighting</th>\n",
       "      <th>series_name</th>\n",
       "      <th>season</th>\n",
       "      <th>ground_id</th>\n",
       "      <th>team_count_50runs_last15</th>\n",
       "      <th>team_winp_last5</th>\n",
       "      <th>team1only_avg_runs_last15</th>\n",
       "      <th>team1_winp_team2_last15</th>\n",
       "      <th>ground_avg_runs_last15</th>\n",
       "      <th>run_rate_ratio_last15</th>\n",
       "      <th>wicket_ratio_last15</th>\n",
       "      <th>winner_01</th>\n",
       "      <th>team1_key_batsman_avg_runs_last15</th>\n",
       "      <th>team2_key_batsman_avg_runs_last15</th>\n",
       "      <th>key_batsman_runs_ratio_last15</th>\n",
       "      <th>key_bowler_wickets_ratio_last15</th>\n",
       "      <th>economy_rate_ratio_last15</th>\n",
       "      <th>dots_ratio_last15</th>\n",
       "      <th>strike_rate_ratio_last15</th>\n",
       "      <th>metrics_ratio_last15</th>\n",
       "      <th>bowler_consistency_ratio_last15</th>\n",
       "    </tr>\n",
       "  </thead>\n",
       "  <tbody>\n",
       "    <tr>\n",
       "      <th>0</th>\n",
       "      <td>9331181</td>\n",
       "      <td>Ba</td>\n",
       "      <td>11283</td>\n",
       "      <td>9373356.0:7857520.0:4232164.0:4566540.0:3299407.0:232000.0:7883504.0:8725723.0:7878989.0:2526390.0:8725730.0:4017523.0</td>\n",
       "      <td>Hl Ph</td>\n",
       "      <td>12634</td>\n",
       "      <td>3500958.0:4231751.0:2735081.0:2035102.0:3698337.0:5058192.0:6844718.0:4566526.0:6596582.0:4161975.0:7952804.0:8465057.0</td>\n",
       "      <td>Hl Ph</td>\n",
       "      <td>12634</td>\n",
       "      <td>Hl Ph</td>\n",
       "      <td>field</td>\n",
       "      <td>Hr Ct Sm Ie</td>\n",
       "      <td>Indore</td>\n",
       "      <td>2022-10-20</td>\n",
       "      <td>day/night match</td>\n",
       "      <td>Sd Mq Ai Ty</td>\n",
       "      <td>2022/23</td>\n",
       "      <td>7398</td>\n",
       "      <td>1.666667</td>\n",
       "      <td>0.672131</td>\n",
       "      <td>139.0</td>\n",
       "      <td>100.0</td>\n",
       "      <td>157.178571</td>\n",
       "      <td>0.972976</td>\n",
       "      <td>1.008332</td>\n",
       "      <td>1</td>\n",
       "      <td>13.866667</td>\n",
       "      <td>14.805128</td>\n",
       "      <td>1.200785</td>\n",
       "      <td>0.938452</td>\n",
       "      <td>0.936113</td>\n",
       "      <td>0.758968</td>\n",
       "      <td>0.973872</td>\n",
       "      <td>0.620487</td>\n",
       "      <td>1.161247</td>\n",
       "    </tr>\n",
       "    <tr>\n",
       "      <th>1</th>\n",
       "      <td>8797060</td>\n",
       "      <td>Ed</td>\n",
       "      <td>20</td>\n",
       "      <td>2089079.0:6139370.0:2076192.0:62432.0:2083409.0:172199.0:2022957.0:1482998.0:1711492.0:4507208.0:3231437.0</td>\n",
       "      <td>Wt Is</td>\n",
       "      <td>41</td>\n",
       "      <td>4690258.0:4069666.0:4230127.0:1942317.0:1613926.0:2740408.0:4739552.0:5744850.0:4690104.0:3715697.0:3468870.0</td>\n",
       "      <td>Ed</td>\n",
       "      <td>20</td>\n",
       "      <td>Wt Is</td>\n",
       "      <td>field</td>\n",
       "      <td>Kn Ol Bn Bs</td>\n",
       "      <td>Bridgetown</td>\n",
       "      <td>2022-01-23</td>\n",
       "      <td>day/night match</td>\n",
       "      <td>Ed tr of Wt Is</td>\n",
       "      <td>2021/22</td>\n",
       "      <td>1406</td>\n",
       "      <td>1.285714</td>\n",
       "      <td>1.952381</td>\n",
       "      <td>156.0</td>\n",
       "      <td>50.0</td>\n",
       "      <td>103.500000</td>\n",
       "      <td>1.028089</td>\n",
       "      <td>0.978020</td>\n",
       "      <td>0</td>\n",
       "      <td>13.387121</td>\n",
       "      <td>15.426263</td>\n",
       "      <td>1.075587</td>\n",
       "      <td>0.809151</td>\n",
       "      <td>0.967601</td>\n",
       "      <td>0.948735</td>\n",
       "      <td>0.859728</td>\n",
       "      <td>0.853746</td>\n",
       "      <td>0.827513</td>\n",
       "    </tr>\n",
       "  </tbody>\n",
       "</table>\n",
       "</div>"
      ],
      "text/plain": [
       "   match id team1  ...  metrics_ratio_last15 bowler_consistency_ratio_last15\n",
       "0  9331181   Ba    ...  0.620487              1.161247                      \n",
       "1  8797060   Ed    ...  0.853746              0.827513                      \n",
       "\n",
       "[2 rows x 35 columns]"
      ]
     },
     "execution_count": 34,
     "metadata": {},
     "output_type": "execute_result"
    }
   ],
   "source": [
    "# In[8]:\n",
    "\n",
    "\n",
    "train_data.shape\n",
    "train_data.head(2)"
   ]
  },
  {
   "cell_type": "code",
   "execution_count": 35,
   "metadata": {},
   "outputs": [
    {
     "data": {
      "text/plain": [
       "(207, 21)"
      ]
     },
     "execution_count": 35,
     "metadata": {},
     "output_type": "execute_result"
    },
    {
     "data": {
      "text/html": [
       "<div>\n",
       "<style scoped>\n",
       "    .dataframe tbody tr th:only-of-type {\n",
       "        vertical-align: middle;\n",
       "    }\n",
       "\n",
       "    .dataframe tbody tr th {\n",
       "        vertical-align: top;\n",
       "    }\n",
       "\n",
       "    .dataframe thead th {\n",
       "        text-align: right;\n",
       "    }\n",
       "</style>\n",
       "<table border=\"1\" class=\"dataframe\">\n",
       "  <thead>\n",
       "    <tr style=\"text-align: right;\">\n",
       "      <th></th>\n",
       "      <th>match id</th>\n",
       "      <th>team1</th>\n",
       "      <th>team1_id</th>\n",
       "      <th>team1_roster_ids</th>\n",
       "      <th>team2</th>\n",
       "      <th>team2_id</th>\n",
       "      <th>team2_roster_ids</th>\n",
       "      <th>toss winner</th>\n",
       "      <th>toss decision</th>\n",
       "      <th>venue</th>\n",
       "      <th>city</th>\n",
       "      <th>match_dt</th>\n",
       "      <th>lighting</th>\n",
       "      <th>series_name</th>\n",
       "      <th>season</th>\n",
       "      <th>ground_id</th>\n",
       "      <th>team_count_50runs_last15</th>\n",
       "      <th>team_winp_last5</th>\n",
       "      <th>team1only_avg_runs_last15</th>\n",
       "      <th>team1_winp_team2_last15</th>\n",
       "      <th>ground_avg_runs_last15</th>\n",
       "    </tr>\n",
       "  </thead>\n",
       "  <tbody>\n",
       "    <tr>\n",
       "      <th>0</th>\n",
       "      <td>9272619</td>\n",
       "      <td>Me Ss</td>\n",
       "      <td>33949</td>\n",
       "      <td>4003390.0:7960994.0:3901078.0:2669316.0:3737103.0:5469092.0:1829491.0:5419532.0:4012203.0:6308098.0:2656541.0</td>\n",
       "      <td>Ht Hs</td>\n",
       "      <td>33928</td>\n",
       "      <td>5843200.0:4223883.0:4655384.0:6249256.0:2161599.0:3459623.0:8497866.0:4767832.0:4238975.0:5788418.0:6732004.0</td>\n",
       "      <td>Ht Hs</td>\n",
       "      <td>field</td>\n",
       "      <td>Be Ol Ht</td>\n",
       "      <td>Hobart</td>\n",
       "      <td>2023-01-09</td>\n",
       "      <td>night match</td>\n",
       "      <td>Bg Bh Le</td>\n",
       "      <td>2022/23</td>\n",
       "      <td>6348</td>\n",
       "      <td>0.666667</td>\n",
       "      <td>1.000000</td>\n",
       "      <td>167.933333</td>\n",
       "      <td>60.0</td>\n",
       "      <td>154.115385</td>\n",
       "    </tr>\n",
       "    <tr>\n",
       "      <th>1</th>\n",
       "      <td>9086958</td>\n",
       "      <td>Na</td>\n",
       "      <td>209</td>\n",
       "      <td>5836452.0:8246468.0:7500324.0:3065502.0:3633503.0:3377359.0:1547993.0:3876760.0:4176661.0:2311574.0:7488753.0</td>\n",
       "      <td>Si La</td>\n",
       "      <td>69</td>\n",
       "      <td>7200598.0:4403531.0:3260564.0:2420760.0:2398346.0:3061225.0:5490666.0:4365878.0:5786836.0:3865077.0:7968225.0</td>\n",
       "      <td>Si La</td>\n",
       "      <td>field</td>\n",
       "      <td>GA Sm Sh Gg Va</td>\n",
       "      <td>Geelong</td>\n",
       "      <td>2022-10-16</td>\n",
       "      <td>day/night match</td>\n",
       "      <td>Si La tr of Aa</td>\n",
       "      <td>2022/23</td>\n",
       "      <td>3961</td>\n",
       "      <td>0.142857</td>\n",
       "      <td>0.207921</td>\n",
       "      <td>141.888889</td>\n",
       "      <td>0.0</td>\n",
       "      <td>142.833333</td>\n",
       "    </tr>\n",
       "  </tbody>\n",
       "</table>\n",
       "</div>"
      ],
      "text/plain": [
       "   match id  team1  ...  team1_winp_team2_last15 ground_avg_runs_last15\n",
       "0  9272619   Me Ss  ...  60.0                     154.115385           \n",
       "1  9086958   Na     ...  0.0                      142.833333           \n",
       "\n",
       "[2 rows x 21 columns]"
      ]
     },
     "execution_count": 35,
     "metadata": {},
     "output_type": "execute_result"
    }
   ],
   "source": [
    "# In[9]:\n",
    "\n",
    "\n",
    "test_data.shape\n",
    "test_data.head(2)"
   ]
  },
  {
   "cell_type": "code",
   "execution_count": 36,
   "metadata": {},
   "outputs": [],
   "source": [
    "# In[10]:\n",
    "\n",
    "\n",
    "## Creating a binary winner column - 0 if team1 wins, else 1\n",
    "train_data['winner_01'] = train_data.apply(lambda x: 0 if (x['team1']==x['winner']) else 1, axis=1)"
   ]
  },
  {
   "cell_type": "code",
   "execution_count": 37,
   "metadata": {},
   "outputs": [],
   "source": [
    "# ## Code to plot RnP\n",
    "\n",
    "# In[11]:\n",
    "\n",
    "import seaborn as sns\n",
    "sns.set_style(\"whitegrid\")  # This sets the seaborn style\n",
    "from matplotlib import pyplot as plt\n",
    "import re\n",
    "\n",
    "def createRnP(X_12, feature, N=5, ylim_lb=0.3, ylim_ub=0.7):\n",
    "    '''\n",
    "    Rank and Plot of input feature on the input data. The y-axis shows %team1 wins in each bucket.\n",
    "    \n",
    "    Parameters-\n",
    "    1. X_12: dataset to build the RnP on. \n",
    "    2. feature: Feature to build RnP of.\n",
    "    3. N: number of bins on x-axis. Default 5.\n",
    "    4. ylim_lb: lower bound of y axis on plot.\n",
    "    5. ylim_ub: upper bound of y axis on plot.\n",
    "    \n",
    "    Output-\n",
    "    1. Rank and Plot\n",
    "    \n",
    "    Returns- None\n",
    "    '''\n",
    "    df = X_12.copy()\n",
    "    df[f'{feature}_bin'] = df[feature].rank(pct=True)//(1/N) # divide feature values for all games in 5 equi-volume buckets.\n",
    "    df['count'] = 1\n",
    "    df['team1_win%'] = df['winner_01'].apply(lambda x: 1-x) # invert winner_01 to get team1 winner indicator\n",
    "    df['team2_win%'] = df['winner_01'].copy()\n",
    "    df[f'{feature}_min'] = df[feature].copy()\n",
    "    df[f'{feature}_max'] = df[feature].copy()\n",
    "    df_g = df.groupby(f'{feature}_bin').agg({'team1_win%':'mean', 'team2_win%':'mean', 'count':'sum', f'{feature}_min':'min',\\\n",
    "                                            f'{feature}_max':'max'}).reset_index()\n",
    "    N = min(N,df_g.shape[0])\n",
    "    blue_bar = df_g['team1_win%'].values.tolist()\n",
    "    ind = np.arange(N)\n",
    "    # plotting starts\n",
    "    plt.figure(figsize=(10,5));\n",
    "    plt.bar(ind, blue_bar, label='Team 1 win%');\n",
    "    plt.axhline(y=0.5, linewidth=0.5, color='k', linestyle = '--')\n",
    "    xlabel = re.sub('team_','ratio_',feature)\n",
    "    plt.xlabel(f'{xlabel} (team1 / team2) bins');\n",
    "    plt.ylabel('Win %');\n",
    "    plt.title(f'RnP - {feature} vs win');\n",
    "    df_g['xticks'] = df_g.apply(lambda x: str(round(x[f'{feature}_min'],2)) + ' - ' + str(round(x[f'{feature}_max'],2)), axis=1)\n",
    "    plt.xticks(ind, df_g['xticks']);\n",
    "    plt.ylim([ylim_lb,ylim_ub]);\n",
    "    plt.legend(loc='best');\n",
    "    x2,x1 = blue_bar[-1],blue_bar[0]\n",
    "    slope = x2/x1\n",
    "    if slope < 1:\n",
    "        slope = 1/slope\n",
    "        x1,x2 = x2,x1\n",
    "    print('slope:', round(x2,2),'/',round(x1,2), '= ',round(slope,2))\n",
    "    plt.show();"
   ]
  },
  {
   "cell_type": "code",
   "execution_count": 38,
   "metadata": {},
   "outputs": [],
   "source": [
    "# #### Helper function\n",
    "\n",
    "# In[12]:\n",
    "\n",
    "\n",
    "def giveLastNgamesPlayer(player_id, date, n, bat_or_bowl):\n",
    "    '''\n",
    "    Function to get last n games stats of a player before an input date.\n",
    "    \n",
    "    Input-\n",
    "    1. player_id: id of the player to get historical data.\n",
    "    2. date: date to look-back and get n games. Stats returned are before this input date.\n",
    "    3. n: Number of historical games stats to return.\n",
    "    4. bat_or_bowl: Kind of stats to return. {'bat': batting stats to return, 'bowl': bowling stats to return}\n",
    "    \n",
    "    Output-None\n",
    "    \n",
    "    Returns- dataframe having bowling/batting stats from last n games of a player before an input date. \n",
    "    The results are sorted by date.\n",
    "    '''\n",
    "    if bat_or_bowl == 'bat':\n",
    "        df_topick = batsman_lvl_data\n",
    "        id_col = 'batsman_id'\n",
    "    else:\n",
    "        df_topick = bowler_lvl_data\n",
    "        id_col = 'bowler_id'\n",
    "        \n",
    "    return df_topick[(df_topick['match_dt']<date)&(df_topick[id_col]==float(player_id))]\\\n",
    "                .sort_values(by='match_dt', ascending=False).head(n)"
   ]
  },
  {
   "cell_type": "code",
   "execution_count": 39,
   "metadata": {},
   "outputs": [],
   "source": [
    "# ## Feature creation\n",
    "\n",
    "# ### 1. team_count_50runs_last15 <br>\n",
    "# Ratio of number of 50s by players in team1 to number of 50s by players in team2 in last 15 games\n",
    "\n",
    "# In[13]:\n",
    "\n",
    "\n",
    "def no50sLastn(player_list, date, n):\n",
    "    '''\n",
    "    Function to get total number of 50s scored by players in the roster of a team in last n games.\n",
    "    \n",
    "    Input-\n",
    "    1. player_list: ':' separated list of player ids in the roster of a team.\n",
    "    2. date: match date of the game to calculate this feature.\n",
    "    3. n: Number of games to look-back and create this feature.\n",
    "    \n",
    "    Output-None\n",
    "    \n",
    "    Returns- int value denoting sum of 50s scored by all players in the roster.\n",
    "    '''\n",
    "    \n",
    "    player_list = str(player_list).split(':') # split string of ':' separated ids into a list of ids\n",
    "    res_list = []\n",
    "    for player in player_list: # loop over each player_id in roster\n",
    "        df_rel = giveLastNgamesPlayer(player_id=player, date=date, n=n, bat_or_bowl='bat') # getting batting stats from last n games for each player.\n",
    "        df_rel['gte_50runs'] = np.where(df_rel['runs']>=50, 1, 0) # binary indicator to denote whether the player scored a 50 in the game (runs>=50).\n",
    "        res_list.append(np.nansum(df_rel['gte_50runs']))# Sum up number of 50s for the player and append to a list. We will do this for all players.\n",
    "    return np.nansum(res_list)# Sum up values of the list which is sum of 50s by all players in the roster."
   ]
  },
  {
   "cell_type": "code",
   "execution_count": 40,
   "metadata": {},
   "outputs": [
    {
     "name": "stderr",
     "output_type": "stream",
     "text": [
      "100%|██████████| 948/948 [00:25<00:00, 37.13it/s]\n",
      "100%|██████████| 948/948 [00:23<00:00, 40.99it/s]\n"
     ]
    }
   ],
   "source": [
    "# In[14]:\n",
    "\n",
    "\n",
    "# Computing number of 50 runs in last 15 games for team1 for train dataset.\n",
    "train_data['team1_count_50runs_last15'] = train_data.progress_apply(lambda x: \\\n",
    "            no50sLastn(player_list=x['team1_roster_ids'], date=x['match_dt'], n=15), axis=1)\n",
    "# Computing number of 50 runs in last 15 games for team2 for train dataset.\n",
    "train_data['team2_count_50runs_last15'] = train_data.progress_apply(lambda x: \\\n",
    "            no50sLastn(player_list=x['team2_roster_ids'], date=x['match_dt'], n=15), axis=1)"
   ]
  },
  {
   "cell_type": "code",
   "execution_count": 41,
   "metadata": {},
   "outputs": [],
   "source": [
    "# In[15]:\n",
    "\n",
    "\n",
    "# Taking ratio of (number of 50 runs in last 15 games for team1) to (number of 50 runs in last 15 games for team2). Adding 1 to handle divide by zero exceptions.\n",
    "train_data['team_count_50runs_last15'] = (train_data['team1_count_50runs_last15']+1)/(train_data['team2_count_50runs_last15']+1)\n",
    "train_data.drop(columns=['team1_count_50runs_last15','team2_count_50runs_last15'], inplace=True) # dropping intermediate columns"
   ]
  },
  {
   "cell_type": "code",
   "execution_count": 42,
   "metadata": {},
   "outputs": [
    {
     "data": {
      "text/plain": [
       "(948, 35)"
      ]
     },
     "execution_count": 42,
     "metadata": {},
     "output_type": "execute_result"
    },
    {
     "data": {
      "text/html": [
       "<div>\n",
       "<style scoped>\n",
       "    .dataframe tbody tr th:only-of-type {\n",
       "        vertical-align: middle;\n",
       "    }\n",
       "\n",
       "    .dataframe tbody tr th {\n",
       "        vertical-align: top;\n",
       "    }\n",
       "\n",
       "    .dataframe thead th {\n",
       "        text-align: right;\n",
       "    }\n",
       "</style>\n",
       "<table border=\"1\" class=\"dataframe\">\n",
       "  <thead>\n",
       "    <tr style=\"text-align: right;\">\n",
       "      <th></th>\n",
       "      <th>match id</th>\n",
       "      <th>team1</th>\n",
       "      <th>team1_id</th>\n",
       "      <th>team1_roster_ids</th>\n",
       "      <th>team2</th>\n",
       "      <th>team2_id</th>\n",
       "      <th>team2_roster_ids</th>\n",
       "      <th>winner</th>\n",
       "      <th>winner_id</th>\n",
       "      <th>toss winner</th>\n",
       "      <th>toss decision</th>\n",
       "      <th>venue</th>\n",
       "      <th>city</th>\n",
       "      <th>match_dt</th>\n",
       "      <th>lighting</th>\n",
       "      <th>series_name</th>\n",
       "      <th>season</th>\n",
       "      <th>ground_id</th>\n",
       "      <th>team_count_50runs_last15</th>\n",
       "      <th>team_winp_last5</th>\n",
       "      <th>team1only_avg_runs_last15</th>\n",
       "      <th>team1_winp_team2_last15</th>\n",
       "      <th>ground_avg_runs_last15</th>\n",
       "      <th>run_rate_ratio_last15</th>\n",
       "      <th>wicket_ratio_last15</th>\n",
       "      <th>winner_01</th>\n",
       "      <th>team1_key_batsman_avg_runs_last15</th>\n",
       "      <th>team2_key_batsman_avg_runs_last15</th>\n",
       "      <th>key_batsman_runs_ratio_last15</th>\n",
       "      <th>key_bowler_wickets_ratio_last15</th>\n",
       "      <th>economy_rate_ratio_last15</th>\n",
       "      <th>dots_ratio_last15</th>\n",
       "      <th>strike_rate_ratio_last15</th>\n",
       "      <th>metrics_ratio_last15</th>\n",
       "      <th>bowler_consistency_ratio_last15</th>\n",
       "    </tr>\n",
       "  </thead>\n",
       "  <tbody>\n",
       "    <tr>\n",
       "      <th>946</th>\n",
       "      <td>9516695</td>\n",
       "      <td>Rn Rs</td>\n",
       "      <td>30428</td>\n",
       "      <td>8058959.0:2162782.0:2981614.0:4690188.0:2125696.0:8228429.0:184960.0:3068547.0:3696482.0:8445478.0:3011735.0:6347494.0</td>\n",
       "      <td>Ss Hd</td>\n",
       "      <td>36014</td>\n",
       "      <td>5958840.0:7491294.0:3127354.0:3057312.0:4203499.0:5764576.0:8228408.0:4874820.0:8766603.0:7570107.0:2282125.0:5618038.0</td>\n",
       "      <td>Ss Hd</td>\n",
       "      <td>36014</td>\n",
       "      <td>Rn Rs</td>\n",
       "      <td>bat</td>\n",
       "      <td>Si Mh Sm Jr</td>\n",
       "      <td>Jaipur</td>\n",
       "      <td>2023-05-07</td>\n",
       "      <td>night match</td>\n",
       "      <td>In Pr Le</td>\n",
       "      <td>2023</td>\n",
       "      <td>4661</td>\n",
       "      <td>0.789474</td>\n",
       "      <td>1.487805</td>\n",
       "      <td>182.800000</td>\n",
       "      <td>66.67</td>\n",
       "      <td>133.375000</td>\n",
       "      <td>0.987333</td>\n",
       "      <td>0.950979</td>\n",
       "      <td>1</td>\n",
       "      <td>15.194300</td>\n",
       "      <td>19.556061</td>\n",
       "      <td>1.051873</td>\n",
       "      <td>1.148148</td>\n",
       "      <td>1.002449</td>\n",
       "      <td>1.085331</td>\n",
       "      <td>0.861942</td>\n",
       "      <td>1.005818</td>\n",
       "      <td>0.978129</td>\n",
       "    </tr>\n",
       "    <tr>\n",
       "      <th>947</th>\n",
       "      <td>9433633</td>\n",
       "      <td>He</td>\n",
       "      <td>7727</td>\n",
       "      <td>4223883.0:2076192.0:8822729.0:5241564.0:2020332.0:3162487.0:1482249.0:1482998.0:2173688.0:5788418.0:8833075.0</td>\n",
       "      <td>Ge</td>\n",
       "      <td>7608</td>\n",
       "      <td>4898074.0:3220566.0:8048074.0:6988596.0:8072945.0:2667027.0:6341796.0:3578742.0:1707628.0:2538983.0:2437091.0</td>\n",
       "      <td>Ge</td>\n",
       "      <td>7608</td>\n",
       "      <td>Ge</td>\n",
       "      <td>field</td>\n",
       "      <td>Cy Gd Bl</td>\n",
       "      <td>Bristol</td>\n",
       "      <td>2023-06-20</td>\n",
       "      <td>day/night match</td>\n",
       "      <td>Vy Bt</td>\n",
       "      <td>2023</td>\n",
       "      <td>1245</td>\n",
       "      <td>4.000000</td>\n",
       "      <td>1.975610</td>\n",
       "      <td>167.333333</td>\n",
       "      <td>100.00</td>\n",
       "      <td>164.192308</td>\n",
       "      <td>1.025429</td>\n",
       "      <td>0.900900</td>\n",
       "      <td>1</td>\n",
       "      <td>17.181212</td>\n",
       "      <td>12.394596</td>\n",
       "      <td>1.370075</td>\n",
       "      <td>1.320755</td>\n",
       "      <td>0.791718</td>\n",
       "      <td>1.418339</td>\n",
       "      <td>1.124130</td>\n",
       "      <td>0.826821</td>\n",
       "      <td>1.105100</td>\n",
       "    </tr>\n",
       "  </tbody>\n",
       "</table>\n",
       "</div>"
      ],
      "text/plain": [
       "     match id  team1  ...  metrics_ratio_last15 bowler_consistency_ratio_last15\n",
       "946  9516695   Rn Rs  ...  1.005818              0.978129                      \n",
       "947  9433633   He     ...  0.826821              1.105100                      \n",
       "\n",
       "[2 rows x 35 columns]"
      ]
     },
     "execution_count": 42,
     "metadata": {},
     "output_type": "execute_result"
    }
   ],
   "source": [
    "# In[16]:\n",
    "\n",
    "\n",
    "train_data.shape\n",
    "train_data.tail(2)"
   ]
  },
  {
   "cell_type": "code",
   "execution_count": 43,
   "metadata": {},
   "outputs": [
    {
     "name": "stdout",
     "output_type": "stream",
     "text": [
      "slope: 0.6 / 0.39 =  1.53\n"
     ]
    },
    {
     "data": {
      "image/png": "[encoded data removed]",
      "text/plain": [
       "<Figure size 1000x500 with 1 Axes>"
      ]
     },
     "metadata": {},
     "output_type": "display_data"
    }
   ],
   "source": [
    "# In[17]:\n",
    "\n",
    "\n",
    "# RnP of team_count_50runs_last15 computed over the train data. Slope denotes ratio of right most bin to left most bin.\n",
    "createRnP(train_data, 'team_count_50runs_last15')"
   ]
  },
  {
   "cell_type": "code",
   "execution_count": 44,
   "metadata": {},
   "outputs": [
    {
     "name": "stderr",
     "output_type": "stream",
     "text": [
      "100%|██████████| 207/207 [00:04<00:00, 42.54it/s]\n",
      "100%|██████████| 207/207 [00:04<00:00, 42.39it/s]\n"
     ]
    },
    {
     "data": {
      "text/plain": [
       "(207, 21)"
      ]
     },
     "execution_count": 44,
     "metadata": {},
     "output_type": "execute_result"
    },
    {
     "data": {
      "text/html": [
       "<div>\n",
       "<style scoped>\n",
       "    .dataframe tbody tr th:only-of-type {\n",
       "        vertical-align: middle;\n",
       "    }\n",
       "\n",
       "    .dataframe tbody tr th {\n",
       "        vertical-align: top;\n",
       "    }\n",
       "\n",
       "    .dataframe thead th {\n",
       "        text-align: right;\n",
       "    }\n",
       "</style>\n",
       "<table border=\"1\" class=\"dataframe\">\n",
       "  <thead>\n",
       "    <tr style=\"text-align: right;\">\n",
       "      <th></th>\n",
       "      <th>match id</th>\n",
       "      <th>team1</th>\n",
       "      <th>team1_id</th>\n",
       "      <th>team1_roster_ids</th>\n",
       "      <th>team2</th>\n",
       "      <th>team2_id</th>\n",
       "      <th>team2_roster_ids</th>\n",
       "      <th>toss winner</th>\n",
       "      <th>toss decision</th>\n",
       "      <th>venue</th>\n",
       "      <th>city</th>\n",
       "      <th>match_dt</th>\n",
       "      <th>lighting</th>\n",
       "      <th>series_name</th>\n",
       "      <th>season</th>\n",
       "      <th>ground_id</th>\n",
       "      <th>team_count_50runs_last15</th>\n",
       "      <th>team_winp_last5</th>\n",
       "      <th>team1only_avg_runs_last15</th>\n",
       "      <th>team1_winp_team2_last15</th>\n",
       "      <th>ground_avg_runs_last15</th>\n",
       "    </tr>\n",
       "  </thead>\n",
       "  <tbody>\n",
       "    <tr>\n",
       "      <th>0</th>\n",
       "      <td>9272619</td>\n",
       "      <td>Me Ss</td>\n",
       "      <td>33949</td>\n",
       "      <td>4003390.0:7960994.0:3901078.0:2669316.0:3737103.0:5469092.0:1829491.0:5419532.0:4012203.0:6308098.0:2656541.0</td>\n",
       "      <td>Ht Hs</td>\n",
       "      <td>33928</td>\n",
       "      <td>5843200.0:4223883.0:4655384.0:6249256.0:2161599.0:3459623.0:8497866.0:4767832.0:4238975.0:5788418.0:6732004.0</td>\n",
       "      <td>Ht Hs</td>\n",
       "      <td>field</td>\n",
       "      <td>Be Ol Ht</td>\n",
       "      <td>Hobart</td>\n",
       "      <td>2023-01-09</td>\n",
       "      <td>night match</td>\n",
       "      <td>Bg Bh Le</td>\n",
       "      <td>2022/23</td>\n",
       "      <td>6348</td>\n",
       "      <td>0.666667</td>\n",
       "      <td>1.000000</td>\n",
       "      <td>167.933333</td>\n",
       "      <td>60.0</td>\n",
       "      <td>154.115385</td>\n",
       "    </tr>\n",
       "    <tr>\n",
       "      <th>1</th>\n",
       "      <td>9086958</td>\n",
       "      <td>Na</td>\n",
       "      <td>209</td>\n",
       "      <td>5836452.0:8246468.0:7500324.0:3065502.0:3633503.0:3377359.0:1547993.0:3876760.0:4176661.0:2311574.0:7488753.0</td>\n",
       "      <td>Si La</td>\n",
       "      <td>69</td>\n",
       "      <td>7200598.0:4403531.0:3260564.0:2420760.0:2398346.0:3061225.0:5490666.0:4365878.0:5786836.0:3865077.0:7968225.0</td>\n",
       "      <td>Si La</td>\n",
       "      <td>field</td>\n",
       "      <td>GA Sm Sh Gg Va</td>\n",
       "      <td>Geelong</td>\n",
       "      <td>2022-10-16</td>\n",
       "      <td>day/night match</td>\n",
       "      <td>Si La tr of Aa</td>\n",
       "      <td>2022/23</td>\n",
       "      <td>3961</td>\n",
       "      <td>0.142857</td>\n",
       "      <td>0.207921</td>\n",
       "      <td>141.888889</td>\n",
       "      <td>0.0</td>\n",
       "      <td>142.833333</td>\n",
       "    </tr>\n",
       "  </tbody>\n",
       "</table>\n",
       "</div>"
      ],
      "text/plain": [
       "   match id  team1  ...  team1_winp_team2_last15 ground_avg_runs_last15\n",
       "0  9272619   Me Ss  ...  60.0                     154.115385           \n",
       "1  9086958   Na     ...  0.0                      142.833333           \n",
       "\n",
       "[2 rows x 21 columns]"
      ]
     },
     "execution_count": 44,
     "metadata": {},
     "output_type": "execute_result"
    }
   ],
   "source": [
    "# In[19]:\n",
    "\n",
    "\n",
    "## Doing similar process for test dataset\n",
    "\n",
    "test_data['team1_count_50runs_last15'] = test_data.progress_apply(lambda x: \\\n",
    "            no50sLastn(player_list=x['team1_roster_ids'], date=x['match_dt'], n=15), axis=1)\n",
    "test_data['team2_count_50runs_last15'] = test_data.progress_apply(lambda x: \\\n",
    "            no50sLastn(player_list=x['team2_roster_ids'], date=x['match_dt'], n=15), axis=1)\n",
    "test_data['team_count_50runs_last15'] = (test_data['team1_count_50runs_last15'])/(test_data['team2_count_50runs_last15']+1)\n",
    "test_data.drop(columns=['team1_count_50runs_last15','team2_count_50runs_last15'], inplace=True)\n",
    "test_data.shape\n",
    "test_data.head(2)"
   ]
  },
  {
   "cell_type": "code",
   "execution_count": 45,
   "metadata": {},
   "outputs": [],
   "source": [
    "# ### 2. team_winp_last5 <br>\n",
    "# \n",
    "# Ratio of team1's win % to team2's win % in last 5 games\n",
    "\n",
    "# In[20]:\n",
    "\n",
    "\n",
    "def winpLastn(team_id, date, n):\n",
    "    '''\n",
    "    Get a team's win % in last n games. If a team has won 3 game out of their last 5, win% is 60%.\n",
    "    \n",
    "    Input-\n",
    "    1. team_id: ID of the team to get their last n games and winner information from those games.\n",
    "    2. date: match date from which to get last n historical games.\n",
    "    3. n: look-back window of games.\n",
    "    \n",
    "    Output- None\n",
    "    \n",
    "    Returns- Float value denoting win% of the team in last n games.\n",
    "    '''\n",
    "    # filter out games with either team1/2_id as input team id, match_dt being before current game's date, sort desc by date, and get top n rows (games)\n",
    "    df_rel = match_lvl_data[(match_lvl_data['match_dt']<date)&\\\n",
    "                      ((match_lvl_data['team1_id']==team_id)|(match_lvl_data['team2_id']==team_id))]\\\n",
    "                        .sort_values(by='match_dt', ascending=False).head(n) \n",
    "    win_count = df_rel[df_rel['winner_id']==team_id].shape[0] # count number of rows having winner as the input team\n",
    "    if win_count == 0:\n",
    "        return 0\n",
    "    return round(win_count*100/df_rel.shape[0], 2) # return win% rounded to two decimal points"
   ]
  },
  {
   "cell_type": "code",
   "execution_count": 46,
   "metadata": {},
   "outputs": [
    {
     "name": "stderr",
     "output_type": "stream",
     "text": [
      "  0%|          | 0/948 [00:00<?, ?it/s]"
     ]
    },
    {
     "name": "stderr",
     "output_type": "stream",
     "text": [
      "100%|██████████| 948/948 [00:01<00:00, 845.28it/s]\n",
      "100%|██████████| 948/948 [00:01<00:00, 824.29it/s]\n"
     ]
    }
   ],
   "source": [
    "# In[21]:\n",
    "\n",
    "\n",
    "# Compute team1's win% in last 5 games\n",
    "train_data['team1_winp_last5'] = train_data.progress_apply(lambda x: \\\n",
    "                                  winpLastn(x['team1_id'], x['match_dt'], 5), axis=1)\n",
    "# Compute team2's win% in last 5 games\n",
    "train_data['team2_winp_last5'] = train_data.progress_apply(lambda x: \\\n",
    "                                  winpLastn(x['team2_id'], x['match_dt'], 5), axis=1)"
   ]
  },
  {
   "cell_type": "code",
   "execution_count": 47,
   "metadata": {},
   "outputs": [],
   "source": [
    "# In[22]:\n",
    "\n",
    "\n",
    "# Take the ratio of (team1's win% in their last 5 games)/(team2's win% in their last 5 games). Adding 1 to avoid divide by zero error\n",
    "train_data['team_winp_last5'] = (train_data['team1_winp_last5']+1)/(train_data['team2_winp_last5']+1)\n",
    "train_data.drop(columns=['team1_winp_last5', 'team2_winp_last5'], inplace=True) # drop intermediate columns"
   ]
  },
  {
   "cell_type": "code",
   "execution_count": 48,
   "metadata": {},
   "outputs": [
    {
     "data": {
      "text/plain": [
       "(948, 35)"
      ]
     },
     "execution_count": 48,
     "metadata": {},
     "output_type": "execute_result"
    },
    {
     "data": {
      "text/html": [
       "<div>\n",
       "<style scoped>\n",
       "    .dataframe tbody tr th:only-of-type {\n",
       "        vertical-align: middle;\n",
       "    }\n",
       "\n",
       "    .dataframe tbody tr th {\n",
       "        vertical-align: top;\n",
       "    }\n",
       "\n",
       "    .dataframe thead th {\n",
       "        text-align: right;\n",
       "    }\n",
       "</style>\n",
       "<table border=\"1\" class=\"dataframe\">\n",
       "  <thead>\n",
       "    <tr style=\"text-align: right;\">\n",
       "      <th></th>\n",
       "      <th>match id</th>\n",
       "      <th>team1</th>\n",
       "      <th>team1_id</th>\n",
       "      <th>team1_roster_ids</th>\n",
       "      <th>team2</th>\n",
       "      <th>team2_id</th>\n",
       "      <th>team2_roster_ids</th>\n",
       "      <th>winner</th>\n",
       "      <th>winner_id</th>\n",
       "      <th>toss winner</th>\n",
       "      <th>toss decision</th>\n",
       "      <th>venue</th>\n",
       "      <th>city</th>\n",
       "      <th>match_dt</th>\n",
       "      <th>lighting</th>\n",
       "      <th>series_name</th>\n",
       "      <th>season</th>\n",
       "      <th>ground_id</th>\n",
       "      <th>team_count_50runs_last15</th>\n",
       "      <th>team_winp_last5</th>\n",
       "      <th>team1only_avg_runs_last15</th>\n",
       "      <th>team1_winp_team2_last15</th>\n",
       "      <th>ground_avg_runs_last15</th>\n",
       "      <th>run_rate_ratio_last15</th>\n",
       "      <th>wicket_ratio_last15</th>\n",
       "      <th>winner_01</th>\n",
       "      <th>team1_key_batsman_avg_runs_last15</th>\n",
       "      <th>team2_key_batsman_avg_runs_last15</th>\n",
       "      <th>key_batsman_runs_ratio_last15</th>\n",
       "      <th>key_bowler_wickets_ratio_last15</th>\n",
       "      <th>economy_rate_ratio_last15</th>\n",
       "      <th>dots_ratio_last15</th>\n",
       "      <th>strike_rate_ratio_last15</th>\n",
       "      <th>metrics_ratio_last15</th>\n",
       "      <th>bowler_consistency_ratio_last15</th>\n",
       "    </tr>\n",
       "  </thead>\n",
       "  <tbody>\n",
       "    <tr>\n",
       "      <th>0</th>\n",
       "      <td>9331181</td>\n",
       "      <td>Ba</td>\n",
       "      <td>11283</td>\n",
       "      <td>9373356.0:7857520.0:4232164.0:4566540.0:3299407.0:232000.0:7883504.0:8725723.0:7878989.0:2526390.0:8725730.0:4017523.0</td>\n",
       "      <td>Hl Ph</td>\n",
       "      <td>12634</td>\n",
       "      <td>3500958.0:4231751.0:2735081.0:2035102.0:3698337.0:5058192.0:6844718.0:4566526.0:6596582.0:4161975.0:7952804.0:8465057.0</td>\n",
       "      <td>Hl Ph</td>\n",
       "      <td>12634</td>\n",
       "      <td>Hl Ph</td>\n",
       "      <td>field</td>\n",
       "      <td>Hr Ct Sm Ie</td>\n",
       "      <td>Indore</td>\n",
       "      <td>2022-10-20</td>\n",
       "      <td>day/night match</td>\n",
       "      <td>Sd Mq Ai Ty</td>\n",
       "      <td>2022/23</td>\n",
       "      <td>7398</td>\n",
       "      <td>1.666667</td>\n",
       "      <td>0.672131</td>\n",
       "      <td>139.0</td>\n",
       "      <td>100.0</td>\n",
       "      <td>157.178571</td>\n",
       "      <td>0.972976</td>\n",
       "      <td>1.008332</td>\n",
       "      <td>1</td>\n",
       "      <td>13.866667</td>\n",
       "      <td>14.805128</td>\n",
       "      <td>1.200785</td>\n",
       "      <td>0.938452</td>\n",
       "      <td>0.936113</td>\n",
       "      <td>0.758968</td>\n",
       "      <td>0.973872</td>\n",
       "      <td>0.620487</td>\n",
       "      <td>1.161247</td>\n",
       "    </tr>\n",
       "    <tr>\n",
       "      <th>1</th>\n",
       "      <td>8797060</td>\n",
       "      <td>Ed</td>\n",
       "      <td>20</td>\n",
       "      <td>2089079.0:6139370.0:2076192.0:62432.0:2083409.0:172199.0:2022957.0:1482998.0:1711492.0:4507208.0:3231437.0</td>\n",
       "      <td>Wt Is</td>\n",
       "      <td>41</td>\n",
       "      <td>4690258.0:4069666.0:4230127.0:1942317.0:1613926.0:2740408.0:4739552.0:5744850.0:4690104.0:3715697.0:3468870.0</td>\n",
       "      <td>Ed</td>\n",
       "      <td>20</td>\n",
       "      <td>Wt Is</td>\n",
       "      <td>field</td>\n",
       "      <td>Kn Ol Bn Bs</td>\n",
       "      <td>Bridgetown</td>\n",
       "      <td>2022-01-23</td>\n",
       "      <td>day/night match</td>\n",
       "      <td>Ed tr of Wt Is</td>\n",
       "      <td>2021/22</td>\n",
       "      <td>1406</td>\n",
       "      <td>1.285714</td>\n",
       "      <td>1.952381</td>\n",
       "      <td>156.0</td>\n",
       "      <td>50.0</td>\n",
       "      <td>103.500000</td>\n",
       "      <td>1.028089</td>\n",
       "      <td>0.978020</td>\n",
       "      <td>0</td>\n",
       "      <td>13.387121</td>\n",
       "      <td>15.426263</td>\n",
       "      <td>1.075587</td>\n",
       "      <td>0.809151</td>\n",
       "      <td>0.967601</td>\n",
       "      <td>0.948735</td>\n",
       "      <td>0.859728</td>\n",
       "      <td>0.853746</td>\n",
       "      <td>0.827513</td>\n",
       "    </tr>\n",
       "  </tbody>\n",
       "</table>\n",
       "</div>"
      ],
      "text/plain": [
       "   match id team1  ...  metrics_ratio_last15 bowler_consistency_ratio_last15\n",
       "0  9331181   Ba    ...  0.620487              1.161247                      \n",
       "1  8797060   Ed    ...  0.853746              0.827513                      \n",
       "\n",
       "[2 rows x 35 columns]"
      ]
     },
     "execution_count": 48,
     "metadata": {},
     "output_type": "execute_result"
    }
   ],
   "source": [
    "# In[23]:\n",
    "\n",
    "\n",
    "train_data.shape\n",
    "train_data.head(2)"
   ]
  },
  {
   "cell_type": "code",
   "execution_count": 49,
   "metadata": {},
   "outputs": [
    {
     "name": "stderr",
     "output_type": "stream",
     "text": [
      "100%|██████████| 207/207 [00:00<00:00, 791.09it/s]\n",
      "100%|██████████| 207/207 [00:00<00:00, 841.79it/s]\n"
     ]
    },
    {
     "data": {
      "text/plain": [
       "(207, 21)"
      ]
     },
     "execution_count": 49,
     "metadata": {},
     "output_type": "execute_result"
    },
    {
     "data": {
      "text/html": [
       "<div>\n",
       "<style scoped>\n",
       "    .dataframe tbody tr th:only-of-type {\n",
       "        vertical-align: middle;\n",
       "    }\n",
       "\n",
       "    .dataframe tbody tr th {\n",
       "        vertical-align: top;\n",
       "    }\n",
       "\n",
       "    .dataframe thead th {\n",
       "        text-align: right;\n",
       "    }\n",
       "</style>\n",
       "<table border=\"1\" class=\"dataframe\">\n",
       "  <thead>\n",
       "    <tr style=\"text-align: right;\">\n",
       "      <th></th>\n",
       "      <th>match id</th>\n",
       "      <th>team1</th>\n",
       "      <th>team1_id</th>\n",
       "      <th>team1_roster_ids</th>\n",
       "      <th>team2</th>\n",
       "      <th>team2_id</th>\n",
       "      <th>team2_roster_ids</th>\n",
       "      <th>toss winner</th>\n",
       "      <th>toss decision</th>\n",
       "      <th>venue</th>\n",
       "      <th>city</th>\n",
       "      <th>match_dt</th>\n",
       "      <th>lighting</th>\n",
       "      <th>series_name</th>\n",
       "      <th>season</th>\n",
       "      <th>ground_id</th>\n",
       "      <th>team_count_50runs_last15</th>\n",
       "      <th>team_winp_last5</th>\n",
       "      <th>team1only_avg_runs_last15</th>\n",
       "      <th>team1_winp_team2_last15</th>\n",
       "      <th>ground_avg_runs_last15</th>\n",
       "    </tr>\n",
       "  </thead>\n",
       "  <tbody>\n",
       "    <tr>\n",
       "      <th>0</th>\n",
       "      <td>9272619</td>\n",
       "      <td>Me Ss</td>\n",
       "      <td>33949</td>\n",
       "      <td>4003390.0:7960994.0:3901078.0:2669316.0:3737103.0:5469092.0:1829491.0:5419532.0:4012203.0:6308098.0:2656541.0</td>\n",
       "      <td>Ht Hs</td>\n",
       "      <td>33928</td>\n",
       "      <td>5843200.0:4223883.0:4655384.0:6249256.0:2161599.0:3459623.0:8497866.0:4767832.0:4238975.0:5788418.0:6732004.0</td>\n",
       "      <td>Ht Hs</td>\n",
       "      <td>field</td>\n",
       "      <td>Be Ol Ht</td>\n",
       "      <td>Hobart</td>\n",
       "      <td>2023-01-09</td>\n",
       "      <td>night match</td>\n",
       "      <td>Bg Bh Le</td>\n",
       "      <td>2022/23</td>\n",
       "      <td>6348</td>\n",
       "      <td>0.666667</td>\n",
       "      <td>1.000000</td>\n",
       "      <td>167.933333</td>\n",
       "      <td>60.0</td>\n",
       "      <td>154.115385</td>\n",
       "    </tr>\n",
       "    <tr>\n",
       "      <th>1</th>\n",
       "      <td>9086958</td>\n",
       "      <td>Na</td>\n",
       "      <td>209</td>\n",
       "      <td>5836452.0:8246468.0:7500324.0:3065502.0:3633503.0:3377359.0:1547993.0:3876760.0:4176661.0:2311574.0:7488753.0</td>\n",
       "      <td>Si La</td>\n",
       "      <td>69</td>\n",
       "      <td>7200598.0:4403531.0:3260564.0:2420760.0:2398346.0:3061225.0:5490666.0:4365878.0:5786836.0:3865077.0:7968225.0</td>\n",
       "      <td>Si La</td>\n",
       "      <td>field</td>\n",
       "      <td>GA Sm Sh Gg Va</td>\n",
       "      <td>Geelong</td>\n",
       "      <td>2022-10-16</td>\n",
       "      <td>day/night match</td>\n",
       "      <td>Si La tr of Aa</td>\n",
       "      <td>2022/23</td>\n",
       "      <td>3961</td>\n",
       "      <td>0.142857</td>\n",
       "      <td>0.207921</td>\n",
       "      <td>141.888889</td>\n",
       "      <td>0.0</td>\n",
       "      <td>142.833333</td>\n",
       "    </tr>\n",
       "  </tbody>\n",
       "</table>\n",
       "</div>"
      ],
      "text/plain": [
       "   match id  team1  ...  team1_winp_team2_last15 ground_avg_runs_last15\n",
       "0  9272619   Me Ss  ...  60.0                     154.115385           \n",
       "1  9086958   Na     ...  0.0                      142.833333           \n",
       "\n",
       "[2 rows x 21 columns]"
      ]
     },
     "execution_count": 49,
     "metadata": {},
     "output_type": "execute_result"
    }
   ],
   "source": [
    "# In[24]:\n",
    "\n",
    "\n",
    "## Similar process for test data\n",
    "\n",
    "test_data['team1_winp_last5'] = test_data.progress_apply(lambda x: \\\n",
    "            winpLastn(team_id=x['team1_id'], date=x['match_dt'], n=5), axis=1)\n",
    "test_data['team2_winp_last5'] = test_data.progress_apply(lambda x: \\\n",
    "            winpLastn(team_id=x['team2_id'], date=x['match_dt'], n=5), axis=1)\n",
    "test_data['team_winp_last5'] = (test_data['team1_winp_last5']+1)/(test_data['team2_winp_last5']+1)\n",
    "test_data.drop(columns=['team1_winp_last5','team2_winp_last5'], inplace=True)\n",
    "test_data.shape\n",
    "test_data.head(2)"
   ]
  },
  {
   "cell_type": "code",
   "execution_count": 50,
   "metadata": {},
   "outputs": [
    {
     "name": "stdout",
     "output_type": "stream",
     "text": [
      "slope: 0.58 / 0.4 =  1.47\n"
     ]
    },
    {
     "data": {
      "image/png": "[encoded data removed]",
      "text/plain": [
       "<Figure size 1000x500 with 1 Axes>"
      ]
     },
     "metadata": {},
     "output_type": "display_data"
    }
   ],
   "source": [
    "# In[25]:\n",
    "\n",
    "\n",
    "# RnP of team_winp_last5 computed over the train data.\n",
    "createRnP(train_data, 'team_winp_last5', ylim_ub=0.65)"
   ]
  },
  {
   "cell_type": "code",
   "execution_count": 51,
   "metadata": {},
   "outputs": [],
   "source": [
    "# In[26]:\n",
    "\n",
    "\n",
    "# train_data.drop(columns=['winner_01'], inplace=True) # Dropping intermediate column made to plot RnP.\n",
    "\n",
    "\n",
    "# ### 3. teamonly_avg_runs_last15 <br>\n",
    "# team1's avg inning runs in last 15 games"
   ]
  },
  {
   "cell_type": "code",
   "execution_count": 52,
   "metadata": {},
   "outputs": [],
   "source": [
    "# In[27]:\n",
    "\n",
    "\n",
    "## derived feature computed using toss winner & toss decision to denote the inning team1 bats.\n",
    "# If team1 won the toss and chose to bat or team2 won the toss and chose to bowl, the feature takes the value 1, else 2.\n",
    "match_lvl_data['team1_bat_inning'] = np.where( ((match_lvl_data['team1']==match_lvl_data['toss winner'])&(match_lvl_data['toss decision']=='bat'))|\\\n",
    "                                               ((match_lvl_data['team2']==match_lvl_data['toss winner'])&(match_lvl_data['toss decision']=='field')) , 1, 2)"
   ]
  },
  {
   "cell_type": "code",
   "execution_count": 53,
   "metadata": {},
   "outputs": [
    {
     "data": {
      "text/html": [
       "<div>\n",
       "<style scoped>\n",
       "    .dataframe tbody tr th:only-of-type {\n",
       "        vertical-align: middle;\n",
       "    }\n",
       "\n",
       "    .dataframe tbody tr th {\n",
       "        vertical-align: top;\n",
       "    }\n",
       "\n",
       "    .dataframe thead th {\n",
       "        text-align: right;\n",
       "    }\n",
       "</style>\n",
       "<table border=\"1\" class=\"dataframe\">\n",
       "  <thead>\n",
       "    <tr style=\"text-align: right;\">\n",
       "      <th></th>\n",
       "      <th>match id</th>\n",
       "      <th>team1</th>\n",
       "      <th>team2</th>\n",
       "      <th>winner</th>\n",
       "      <th>by</th>\n",
       "      <th>win amount</th>\n",
       "      <th>toss winner</th>\n",
       "      <th>toss decision</th>\n",
       "      <th>venue</th>\n",
       "      <th>city</th>\n",
       "      <th>match_dt</th>\n",
       "      <th>lighting</th>\n",
       "      <th>series_name</th>\n",
       "      <th>season</th>\n",
       "      <th>ground_id</th>\n",
       "      <th>umpire1</th>\n",
       "      <th>umpire2</th>\n",
       "      <th>inning1_runs</th>\n",
       "      <th>inning1_wickets</th>\n",
       "      <th>inning1_balls</th>\n",
       "      <th>inning2_runs</th>\n",
       "      <th>inning2_wickets</th>\n",
       "      <th>inning2_balls</th>\n",
       "      <th>team1_id</th>\n",
       "      <th>team1_roster_ids</th>\n",
       "      <th>team2_id</th>\n",
       "      <th>team2_roster_ids</th>\n",
       "      <th>series_type</th>\n",
       "      <th>winner_id</th>\n",
       "      <th>player_of_the_match_id</th>\n",
       "      <th>team1_bat_inning</th>\n",
       "    </tr>\n",
       "  </thead>\n",
       "  <tbody>\n",
       "    <tr>\n",
       "      <th>0</th>\n",
       "      <td>8638034</td>\n",
       "      <td>Nn Ds</td>\n",
       "      <td>Wn</td>\n",
       "      <td>Wn</td>\n",
       "      <td>wickets</td>\n",
       "      <td>9</td>\n",
       "      <td>Wn</td>\n",
       "      <td>field</td>\n",
       "      <td>By Ol</td>\n",
       "      <td>Mount Maunganui</td>\n",
       "      <td>2021-01-01</td>\n",
       "      <td>night match</td>\n",
       "      <td>Sr Sh</td>\n",
       "      <td>2020/21</td>\n",
       "      <td>17681</td>\n",
       "      <td>Dn Mw</td>\n",
       "      <td>TJ Pe</td>\n",
       "      <td>148</td>\n",
       "      <td>6</td>\n",
       "      <td>130</td>\n",
       "      <td>152</td>\n",
       "      <td>1</td>\n",
       "      <td>97</td>\n",
       "      <td>17982</td>\n",
       "      <td>7907451.0:4381761.0:31464.0:258649.0:4949790.0:3834305.0:3776849.0:6718340.0:3566240.0:4950364.0:7543647.0</td>\n",
       "      <td>18570</td>\n",
       "      <td>2653993.0:6718326.0:6718382.0:2486896.0:2288789.0:4950224.0:8187878.0:3083667.0:4950294.0:6718396.0:1585464.0</td>\n",
       "      <td>other_domestic</td>\n",
       "      <td>18570</td>\n",
       "      <td>NaN</td>\n",
       "      <td>1</td>\n",
       "    </tr>\n",
       "    <tr>\n",
       "      <th>1</th>\n",
       "      <td>8588005</td>\n",
       "      <td>Me Rs</td>\n",
       "      <td>Sy Tr</td>\n",
       "      <td>Sy Tr</td>\n",
       "      <td>runs</td>\n",
       "      <td>7</td>\n",
       "      <td>Sy Tr</td>\n",
       "      <td>field</td>\n",
       "      <td>Ca Ol</td>\n",
       "      <td>Carrara</td>\n",
       "      <td>2021-01-01</td>\n",
       "      <td>night match</td>\n",
       "      <td>Bg Bh Le</td>\n",
       "      <td>2020/21</td>\n",
       "      <td>6663</td>\n",
       "      <td>D Tr</td>\n",
       "      <td>PJ Ge</td>\n",
       "      <td>166</td>\n",
       "      <td>6</td>\n",
       "      <td>106</td>\n",
       "      <td>117</td>\n",
       "      <td>2</td>\n",
       "      <td>74</td>\n",
       "      <td>33942</td>\n",
       "      <td>37351.0:46794.0:5406540.0:2231928.0:181404.0:1594319.0:7534687.0:7537067.0:1905847.0:8339701.0:7620346.0</td>\n",
       "      <td>33963</td>\n",
       "      <td>1506098.0:1749075.0:36665.0:2083409.0:7534652.0:5788320.0:1612610.0:5509524.0:5497274.0:3876613.0:8193310.0</td>\n",
       "      <td>other_domestic</td>\n",
       "      <td>33963</td>\n",
       "      <td>1749075.0</td>\n",
       "      <td>1</td>\n",
       "    </tr>\n",
       "  </tbody>\n",
       "</table>\n",
       "</div>"
      ],
      "text/plain": [
       "   match id  team1  team2  ... winner_id player_of_the_match_id  team1_bat_inning\n",
       "0  8638034   Nn Ds  Wn     ...  18570    NaN                     1               \n",
       "1  8588005   Me Rs  Sy Tr  ...  33963     1749075.0              1               \n",
       "\n",
       "[2 rows x 31 columns]"
      ]
     },
     "execution_count": 53,
     "metadata": {},
     "output_type": "execute_result"
    }
   ],
   "source": [
    "# In[28]:\n",
    "\n",
    "\n",
    "match_lvl_data.head(2)"
   ]
  },
  {
   "cell_type": "code",
   "execution_count": 54,
   "metadata": {},
   "outputs": [],
   "source": [
    "# In[29]:\n",
    "\n",
    "\n",
    "def teamAvgRunsLastn(team_id, date, n):\n",
    "    '''\n",
    "    Function to calculate a team's average runs in their last n games.\n",
    "    \n",
    "    Input-\n",
    "    1. team_id: ID of the team to calculate average runs.\n",
    "    2. date: match date of the current game for which the feature is calculated.\n",
    "    3. n: look-back window of games for the team.\n",
    "    \n",
    "    Output- None\n",
    "    \n",
    "    Return- Float value denoting average of runs scored by team1 in their last n games.\n",
    "    '''\n",
    "    # filter out games with either team1/2_id as input team_id, match date less than current game's input date, sort desc by date, and top n rows (games) returned\n",
    "    df_rel = match_lvl_data[(match_lvl_data['match_dt']<date)&\\\n",
    "                      ((match_lvl_data['team1_id']==team_id)|(match_lvl_data['team2_id']==team_id))]\\\n",
    "                        .sort_values(by='match_dt', ascending=False).head(n)\n",
    "    # combine two dataframes - one where input team is batting first, and another one where input team is batting second.\n",
    "    df_rel = pd.concat([ df_rel[df_rel['team1_bat_inning']==1][['inning1_runs']].rename(columns={'inning1_runs':'runs'}), \\\n",
    "                         df_rel[df_rel['team1_bat_inning']==2][['inning2_runs']].rename(columns={'inning2_runs':'runs'}) ] )\n",
    "    return df_rel['runs'].mean() # return mean of the combined dataframe."
   ]
  },
  {
   "cell_type": "code",
   "execution_count": 55,
   "metadata": {},
   "outputs": [
    {
     "name": "stderr",
     "output_type": "stream",
     "text": [
      "100%|██████████| 948/948 [00:02<00:00, 334.23it/s]\n"
     ]
    }
   ],
   "source": [
    "# In[30]:\n",
    "\n",
    "\n",
    "# Compute average runs scored by team1 in their last 15 games for train data.\n",
    "train_data['team1only_avg_runs_last15'] = train_data.progress_apply(lambda x: \\\n",
    "                                  teamAvgRunsLastn(x['team1_id'], x['match_dt'], 15), axis=1)"
   ]
  },
  {
   "cell_type": "code",
   "execution_count": 56,
   "metadata": {},
   "outputs": [
    {
     "name": "stderr",
     "output_type": "stream",
     "text": [
      "100%|██████████| 207/207 [00:00<00:00, 321.88it/s]\n"
     ]
    },
    {
     "data": {
      "text/plain": [
       "(207, 21)"
      ]
     },
     "execution_count": 56,
     "metadata": {},
     "output_type": "execute_result"
    },
    {
     "data": {
      "text/html": [
       "<div>\n",
       "<style scoped>\n",
       "    .dataframe tbody tr th:only-of-type {\n",
       "        vertical-align: middle;\n",
       "    }\n",
       "\n",
       "    .dataframe tbody tr th {\n",
       "        vertical-align: top;\n",
       "    }\n",
       "\n",
       "    .dataframe thead th {\n",
       "        text-align: right;\n",
       "    }\n",
       "</style>\n",
       "<table border=\"1\" class=\"dataframe\">\n",
       "  <thead>\n",
       "    <tr style=\"text-align: right;\">\n",
       "      <th></th>\n",
       "      <th>match id</th>\n",
       "      <th>team1</th>\n",
       "      <th>team1_id</th>\n",
       "      <th>team1_roster_ids</th>\n",
       "      <th>team2</th>\n",
       "      <th>team2_id</th>\n",
       "      <th>team2_roster_ids</th>\n",
       "      <th>toss winner</th>\n",
       "      <th>toss decision</th>\n",
       "      <th>venue</th>\n",
       "      <th>city</th>\n",
       "      <th>match_dt</th>\n",
       "      <th>lighting</th>\n",
       "      <th>series_name</th>\n",
       "      <th>season</th>\n",
       "      <th>ground_id</th>\n",
       "      <th>team_count_50runs_last15</th>\n",
       "      <th>team_winp_last5</th>\n",
       "      <th>team1only_avg_runs_last15</th>\n",
       "      <th>team1_winp_team2_last15</th>\n",
       "      <th>ground_avg_runs_last15</th>\n",
       "    </tr>\n",
       "  </thead>\n",
       "  <tbody>\n",
       "    <tr>\n",
       "      <th>0</th>\n",
       "      <td>9272619</td>\n",
       "      <td>Me Ss</td>\n",
       "      <td>33949</td>\n",
       "      <td>4003390.0:7960994.0:3901078.0:2669316.0:3737103.0:5469092.0:1829491.0:5419532.0:4012203.0:6308098.0:2656541.0</td>\n",
       "      <td>Ht Hs</td>\n",
       "      <td>33928</td>\n",
       "      <td>5843200.0:4223883.0:4655384.0:6249256.0:2161599.0:3459623.0:8497866.0:4767832.0:4238975.0:5788418.0:6732004.0</td>\n",
       "      <td>Ht Hs</td>\n",
       "      <td>field</td>\n",
       "      <td>Be Ol Ht</td>\n",
       "      <td>Hobart</td>\n",
       "      <td>2023-01-09</td>\n",
       "      <td>night match</td>\n",
       "      <td>Bg Bh Le</td>\n",
       "      <td>2022/23</td>\n",
       "      <td>6348</td>\n",
       "      <td>0.666667</td>\n",
       "      <td>1.000000</td>\n",
       "      <td>167.933333</td>\n",
       "      <td>60.0</td>\n",
       "      <td>154.115385</td>\n",
       "    </tr>\n",
       "    <tr>\n",
       "      <th>1</th>\n",
       "      <td>9086958</td>\n",
       "      <td>Na</td>\n",
       "      <td>209</td>\n",
       "      <td>5836452.0:8246468.0:7500324.0:3065502.0:3633503.0:3377359.0:1547993.0:3876760.0:4176661.0:2311574.0:7488753.0</td>\n",
       "      <td>Si La</td>\n",
       "      <td>69</td>\n",
       "      <td>7200598.0:4403531.0:3260564.0:2420760.0:2398346.0:3061225.0:5490666.0:4365878.0:5786836.0:3865077.0:7968225.0</td>\n",
       "      <td>Si La</td>\n",
       "      <td>field</td>\n",
       "      <td>GA Sm Sh Gg Va</td>\n",
       "      <td>Geelong</td>\n",
       "      <td>2022-10-16</td>\n",
       "      <td>day/night match</td>\n",
       "      <td>Si La tr of Aa</td>\n",
       "      <td>2022/23</td>\n",
       "      <td>3961</td>\n",
       "      <td>0.142857</td>\n",
       "      <td>0.207921</td>\n",
       "      <td>141.888889</td>\n",
       "      <td>0.0</td>\n",
       "      <td>142.833333</td>\n",
       "    </tr>\n",
       "  </tbody>\n",
       "</table>\n",
       "</div>"
      ],
      "text/plain": [
       "   match id  team1  ...  team1_winp_team2_last15 ground_avg_runs_last15\n",
       "0  9272619   Me Ss  ...  60.0                     154.115385           \n",
       "1  9086958   Na     ...  0.0                      142.833333           \n",
       "\n",
       "[2 rows x 21 columns]"
      ]
     },
     "execution_count": 56,
     "metadata": {},
     "output_type": "execute_result"
    }
   ],
   "source": [
    "# In[31]:\n",
    "\n",
    "\n",
    "# Similarly for test data.\n",
    "test_data['team1only_avg_runs_last15'] = test_data.progress_apply(lambda x: \\\n",
    "            teamAvgRunsLastn(x['team1_id'], x['match_dt'], 15), axis=1)\n",
    "test_data.shape\n",
    "test_data.head(2)"
   ]
  },
  {
   "cell_type": "code",
   "execution_count": 57,
   "metadata": {},
   "outputs": [
    {
     "data": {
      "text/plain": [
       "(948, 35)"
      ]
     },
     "execution_count": 57,
     "metadata": {},
     "output_type": "execute_result"
    },
    {
     "data": {
      "text/html": [
       "<div>\n",
       "<style scoped>\n",
       "    .dataframe tbody tr th:only-of-type {\n",
       "        vertical-align: middle;\n",
       "    }\n",
       "\n",
       "    .dataframe tbody tr th {\n",
       "        vertical-align: top;\n",
       "    }\n",
       "\n",
       "    .dataframe thead th {\n",
       "        text-align: right;\n",
       "    }\n",
       "</style>\n",
       "<table border=\"1\" class=\"dataframe\">\n",
       "  <thead>\n",
       "    <tr style=\"text-align: right;\">\n",
       "      <th></th>\n",
       "      <th>match id</th>\n",
       "      <th>team1</th>\n",
       "      <th>team1_id</th>\n",
       "      <th>team1_roster_ids</th>\n",
       "      <th>team2</th>\n",
       "      <th>team2_id</th>\n",
       "      <th>team2_roster_ids</th>\n",
       "      <th>winner</th>\n",
       "      <th>winner_id</th>\n",
       "      <th>toss winner</th>\n",
       "      <th>toss decision</th>\n",
       "      <th>venue</th>\n",
       "      <th>city</th>\n",
       "      <th>match_dt</th>\n",
       "      <th>lighting</th>\n",
       "      <th>series_name</th>\n",
       "      <th>season</th>\n",
       "      <th>ground_id</th>\n",
       "      <th>team_count_50runs_last15</th>\n",
       "      <th>team_winp_last5</th>\n",
       "      <th>team1only_avg_runs_last15</th>\n",
       "      <th>team1_winp_team2_last15</th>\n",
       "      <th>ground_avg_runs_last15</th>\n",
       "      <th>run_rate_ratio_last15</th>\n",
       "      <th>wicket_ratio_last15</th>\n",
       "      <th>winner_01</th>\n",
       "      <th>team1_key_batsman_avg_runs_last15</th>\n",
       "      <th>team2_key_batsman_avg_runs_last15</th>\n",
       "      <th>key_batsman_runs_ratio_last15</th>\n",
       "      <th>key_bowler_wickets_ratio_last15</th>\n",
       "      <th>economy_rate_ratio_last15</th>\n",
       "      <th>dots_ratio_last15</th>\n",
       "      <th>strike_rate_ratio_last15</th>\n",
       "      <th>metrics_ratio_last15</th>\n",
       "      <th>bowler_consistency_ratio_last15</th>\n",
       "    </tr>\n",
       "  </thead>\n",
       "  <tbody>\n",
       "    <tr>\n",
       "      <th>0</th>\n",
       "      <td>9331181</td>\n",
       "      <td>Ba</td>\n",
       "      <td>11283</td>\n",
       "      <td>9373356.0:7857520.0:4232164.0:4566540.0:3299407.0:232000.0:7883504.0:8725723.0:7878989.0:2526390.0:8725730.0:4017523.0</td>\n",
       "      <td>Hl Ph</td>\n",
       "      <td>12634</td>\n",
       "      <td>3500958.0:4231751.0:2735081.0:2035102.0:3698337.0:5058192.0:6844718.0:4566526.0:6596582.0:4161975.0:7952804.0:8465057.0</td>\n",
       "      <td>Hl Ph</td>\n",
       "      <td>12634</td>\n",
       "      <td>Hl Ph</td>\n",
       "      <td>field</td>\n",
       "      <td>Hr Ct Sm Ie</td>\n",
       "      <td>Indore</td>\n",
       "      <td>2022-10-20</td>\n",
       "      <td>day/night match</td>\n",
       "      <td>Sd Mq Ai Ty</td>\n",
       "      <td>2022/23</td>\n",
       "      <td>7398</td>\n",
       "      <td>1.666667</td>\n",
       "      <td>0.672131</td>\n",
       "      <td>139.0</td>\n",
       "      <td>100.0</td>\n",
       "      <td>157.178571</td>\n",
       "      <td>0.972976</td>\n",
       "      <td>1.008332</td>\n",
       "      <td>1</td>\n",
       "      <td>13.866667</td>\n",
       "      <td>14.805128</td>\n",
       "      <td>1.200785</td>\n",
       "      <td>0.938452</td>\n",
       "      <td>0.936113</td>\n",
       "      <td>0.758968</td>\n",
       "      <td>0.973872</td>\n",
       "      <td>0.620487</td>\n",
       "      <td>1.161247</td>\n",
       "    </tr>\n",
       "    <tr>\n",
       "      <th>1</th>\n",
       "      <td>8797060</td>\n",
       "      <td>Ed</td>\n",
       "      <td>20</td>\n",
       "      <td>2089079.0:6139370.0:2076192.0:62432.0:2083409.0:172199.0:2022957.0:1482998.0:1711492.0:4507208.0:3231437.0</td>\n",
       "      <td>Wt Is</td>\n",
       "      <td>41</td>\n",
       "      <td>4690258.0:4069666.0:4230127.0:1942317.0:1613926.0:2740408.0:4739552.0:5744850.0:4690104.0:3715697.0:3468870.0</td>\n",
       "      <td>Ed</td>\n",
       "      <td>20</td>\n",
       "      <td>Wt Is</td>\n",
       "      <td>field</td>\n",
       "      <td>Kn Ol Bn Bs</td>\n",
       "      <td>Bridgetown</td>\n",
       "      <td>2022-01-23</td>\n",
       "      <td>day/night match</td>\n",
       "      <td>Ed tr of Wt Is</td>\n",
       "      <td>2021/22</td>\n",
       "      <td>1406</td>\n",
       "      <td>1.285714</td>\n",
       "      <td>1.952381</td>\n",
       "      <td>156.0</td>\n",
       "      <td>50.0</td>\n",
       "      <td>103.500000</td>\n",
       "      <td>1.028089</td>\n",
       "      <td>0.978020</td>\n",
       "      <td>0</td>\n",
       "      <td>13.387121</td>\n",
       "      <td>15.426263</td>\n",
       "      <td>1.075587</td>\n",
       "      <td>0.809151</td>\n",
       "      <td>0.967601</td>\n",
       "      <td>0.948735</td>\n",
       "      <td>0.859728</td>\n",
       "      <td>0.853746</td>\n",
       "      <td>0.827513</td>\n",
       "    </tr>\n",
       "  </tbody>\n",
       "</table>\n",
       "</div>"
      ],
      "text/plain": [
       "   match id team1  ...  metrics_ratio_last15 bowler_consistency_ratio_last15\n",
       "0  9331181   Ba    ...  0.620487              1.161247                      \n",
       "1  8797060   Ed    ...  0.853746              0.827513                      \n",
       "\n",
       "[2 rows x 35 columns]"
      ]
     },
     "execution_count": 57,
     "metadata": {},
     "output_type": "execute_result"
    }
   ],
   "source": [
    "# In[32]:\n",
    "\n",
    "\n",
    "train_data.shape\n",
    "train_data.head(2)"
   ]
  },
  {
   "cell_type": "code",
   "execution_count": 58,
   "metadata": {},
   "outputs": [],
   "source": [
    "# ### 4. teamone_winp_teamtwo_last15 <br>\n",
    "# Team1's win percentage againts Team2 in last 15 games\n",
    "\n",
    "# In[33]:\n",
    "\n",
    "\n",
    "def winpCrossLastn(team1_id, team2_id, date, n):\n",
    "    '''\n",
    "    Function to compute team1's win% against team2 from the current game in their past n encounters.\n",
    "    \n",
    "    Input-\n",
    "    1. team1_id: ID of team1 to calculate win% of.\n",
    "    2. team2_id: ID of team2 to calculate win% against.\n",
    "    3: date: match date of the current game for which the feature is to be calculated.\n",
    "    4. n: look-back window of games for both these teams.\n",
    "    \n",
    "    Output- None\n",
    "    \n",
    "    Returns- Float value denoting team1's win% against team2 in their past n games against each other.\n",
    "    '''\n",
    "    # filter out games where either team1_id is input team1 and team2_id is input team2, or where team2_id is input team1 and team1_id is input team2.\n",
    "    # Also, match date is less than current games's input date, sort desc by date and get top n rows (games)\n",
    "    df_rel = match_lvl_data[(match_lvl_data['match_dt']<date)&\\\n",
    "                      (((match_lvl_data['team1_id']==team1_id)&(match_lvl_data['team2_id']==team2_id))|((match_lvl_data['team1_id']==team2_id)&(match_lvl_data['team2_id']==team1_id)))]\\\n",
    "                        .sort_values(by='match_dt', ascending=False).head(n)\n",
    "    win_count = df_rel[df_rel['winner_id']==team1_id].shape[0] # Counting number of rows (games) where winner is input team1.\n",
    "    if win_count == 0:\n",
    "        return 0\n",
    "    return round(win_count*100/df_rel.shape[0], 2) # return Float denoting team1's win% against team2 in past n games rounded to 2 decimal places."
   ]
  },
  {
   "cell_type": "code",
   "execution_count": 59,
   "metadata": {},
   "outputs": [
    {
     "name": "stderr",
     "output_type": "stream",
     "text": [
      "100%|██████████| 948/948 [00:01<00:00, 706.67it/s]\n"
     ]
    }
   ],
   "source": [
    "# In[34]:\n",
    "\n",
    "\n",
    "# Compute team1 win% against team2 in their past 15 encounters for train data.\n",
    "train_data['team1_winp_team2_last15'] = train_data.progress_apply(lambda x: \\\n",
    "                                  winpCrossLastn(x['team1_id'], x['team2_id'], x['match_dt'], 5), axis=1)"
   ]
  },
  {
   "cell_type": "code",
   "execution_count": 60,
   "metadata": {},
   "outputs": [
    {
     "data": {
      "text/plain": [
       "(948, 35)"
      ]
     },
     "execution_count": 60,
     "metadata": {},
     "output_type": "execute_result"
    },
    {
     "data": {
      "text/html": [
       "<div>\n",
       "<style scoped>\n",
       "    .dataframe tbody tr th:only-of-type {\n",
       "        vertical-align: middle;\n",
       "    }\n",
       "\n",
       "    .dataframe tbody tr th {\n",
       "        vertical-align: top;\n",
       "    }\n",
       "\n",
       "    .dataframe thead th {\n",
       "        text-align: right;\n",
       "    }\n",
       "</style>\n",
       "<table border=\"1\" class=\"dataframe\">\n",
       "  <thead>\n",
       "    <tr style=\"text-align: right;\">\n",
       "      <th></th>\n",
       "      <th>match id</th>\n",
       "      <th>team1</th>\n",
       "      <th>team1_id</th>\n",
       "      <th>team1_roster_ids</th>\n",
       "      <th>team2</th>\n",
       "      <th>team2_id</th>\n",
       "      <th>team2_roster_ids</th>\n",
       "      <th>winner</th>\n",
       "      <th>winner_id</th>\n",
       "      <th>toss winner</th>\n",
       "      <th>toss decision</th>\n",
       "      <th>venue</th>\n",
       "      <th>city</th>\n",
       "      <th>match_dt</th>\n",
       "      <th>lighting</th>\n",
       "      <th>series_name</th>\n",
       "      <th>season</th>\n",
       "      <th>ground_id</th>\n",
       "      <th>team_count_50runs_last15</th>\n",
       "      <th>team_winp_last5</th>\n",
       "      <th>team1only_avg_runs_last15</th>\n",
       "      <th>team1_winp_team2_last15</th>\n",
       "      <th>ground_avg_runs_last15</th>\n",
       "      <th>run_rate_ratio_last15</th>\n",
       "      <th>wicket_ratio_last15</th>\n",
       "      <th>winner_01</th>\n",
       "      <th>team1_key_batsman_avg_runs_last15</th>\n",
       "      <th>team2_key_batsman_avg_runs_last15</th>\n",
       "      <th>key_batsman_runs_ratio_last15</th>\n",
       "      <th>key_bowler_wickets_ratio_last15</th>\n",
       "      <th>economy_rate_ratio_last15</th>\n",
       "      <th>dots_ratio_last15</th>\n",
       "      <th>strike_rate_ratio_last15</th>\n",
       "      <th>metrics_ratio_last15</th>\n",
       "      <th>bowler_consistency_ratio_last15</th>\n",
       "    </tr>\n",
       "  </thead>\n",
       "  <tbody>\n",
       "    <tr>\n",
       "      <th>0</th>\n",
       "      <td>9331181</td>\n",
       "      <td>Ba</td>\n",
       "      <td>11283</td>\n",
       "      <td>9373356.0:7857520.0:4232164.0:4566540.0:3299407.0:232000.0:7883504.0:8725723.0:7878989.0:2526390.0:8725730.0:4017523.0</td>\n",
       "      <td>Hl Ph</td>\n",
       "      <td>12634</td>\n",
       "      <td>3500958.0:4231751.0:2735081.0:2035102.0:3698337.0:5058192.0:6844718.0:4566526.0:6596582.0:4161975.0:7952804.0:8465057.0</td>\n",
       "      <td>Hl Ph</td>\n",
       "      <td>12634</td>\n",
       "      <td>Hl Ph</td>\n",
       "      <td>field</td>\n",
       "      <td>Hr Ct Sm Ie</td>\n",
       "      <td>Indore</td>\n",
       "      <td>2022-10-20</td>\n",
       "      <td>day/night match</td>\n",
       "      <td>Sd Mq Ai Ty</td>\n",
       "      <td>2022/23</td>\n",
       "      <td>7398</td>\n",
       "      <td>1.666667</td>\n",
       "      <td>0.672131</td>\n",
       "      <td>139.0</td>\n",
       "      <td>100.0</td>\n",
       "      <td>157.178571</td>\n",
       "      <td>0.972976</td>\n",
       "      <td>1.008332</td>\n",
       "      <td>1</td>\n",
       "      <td>13.866667</td>\n",
       "      <td>14.805128</td>\n",
       "      <td>1.200785</td>\n",
       "      <td>0.938452</td>\n",
       "      <td>0.936113</td>\n",
       "      <td>0.758968</td>\n",
       "      <td>0.973872</td>\n",
       "      <td>0.620487</td>\n",
       "      <td>1.161247</td>\n",
       "    </tr>\n",
       "    <tr>\n",
       "      <th>1</th>\n",
       "      <td>8797060</td>\n",
       "      <td>Ed</td>\n",
       "      <td>20</td>\n",
       "      <td>2089079.0:6139370.0:2076192.0:62432.0:2083409.0:172199.0:2022957.0:1482998.0:1711492.0:4507208.0:3231437.0</td>\n",
       "      <td>Wt Is</td>\n",
       "      <td>41</td>\n",
       "      <td>4690258.0:4069666.0:4230127.0:1942317.0:1613926.0:2740408.0:4739552.0:5744850.0:4690104.0:3715697.0:3468870.0</td>\n",
       "      <td>Ed</td>\n",
       "      <td>20</td>\n",
       "      <td>Wt Is</td>\n",
       "      <td>field</td>\n",
       "      <td>Kn Ol Bn Bs</td>\n",
       "      <td>Bridgetown</td>\n",
       "      <td>2022-01-23</td>\n",
       "      <td>day/night match</td>\n",
       "      <td>Ed tr of Wt Is</td>\n",
       "      <td>2021/22</td>\n",
       "      <td>1406</td>\n",
       "      <td>1.285714</td>\n",
       "      <td>1.952381</td>\n",
       "      <td>156.0</td>\n",
       "      <td>50.0</td>\n",
       "      <td>103.500000</td>\n",
       "      <td>1.028089</td>\n",
       "      <td>0.978020</td>\n",
       "      <td>0</td>\n",
       "      <td>13.387121</td>\n",
       "      <td>15.426263</td>\n",
       "      <td>1.075587</td>\n",
       "      <td>0.809151</td>\n",
       "      <td>0.967601</td>\n",
       "      <td>0.948735</td>\n",
       "      <td>0.859728</td>\n",
       "      <td>0.853746</td>\n",
       "      <td>0.827513</td>\n",
       "    </tr>\n",
       "  </tbody>\n",
       "</table>\n",
       "</div>"
      ],
      "text/plain": [
       "   match id team1  ...  metrics_ratio_last15 bowler_consistency_ratio_last15\n",
       "0  9331181   Ba    ...  0.620487              1.161247                      \n",
       "1  8797060   Ed    ...  0.853746              0.827513                      \n",
       "\n",
       "[2 rows x 35 columns]"
      ]
     },
     "execution_count": 60,
     "metadata": {},
     "output_type": "execute_result"
    }
   ],
   "source": [
    "# In[35]:\n",
    "\n",
    "\n",
    "train_data.shape\n",
    "train_data.head(2)"
   ]
  },
  {
   "cell_type": "code",
   "execution_count": 61,
   "metadata": {},
   "outputs": [
    {
     "name": "stderr",
     "output_type": "stream",
     "text": [
      "  0%|          | 0/207 [00:00<?, ?it/s]"
     ]
    },
    {
     "name": "stderr",
     "output_type": "stream",
     "text": [
      "100%|██████████| 207/207 [00:00<00:00, 610.70it/s]\n"
     ]
    }
   ],
   "source": [
    "# In[36]:\n",
    "\n",
    "\n",
    "# Similarly for test data.\n",
    "test_data['team1_winp_team2_last15'] = test_data.progress_apply(lambda x: \\\n",
    "                                  winpCrossLastn(x['team1_id'], x['team2_id'], x['match_dt'], 5), axis=1)"
   ]
  },
  {
   "cell_type": "code",
   "execution_count": 62,
   "metadata": {},
   "outputs": [
    {
     "data": {
      "text/plain": [
       "(207, 21)"
      ]
     },
     "execution_count": 62,
     "metadata": {},
     "output_type": "execute_result"
    },
    {
     "data": {
      "text/html": [
       "<div>\n",
       "<style scoped>\n",
       "    .dataframe tbody tr th:only-of-type {\n",
       "        vertical-align: middle;\n",
       "    }\n",
       "\n",
       "    .dataframe tbody tr th {\n",
       "        vertical-align: top;\n",
       "    }\n",
       "\n",
       "    .dataframe thead th {\n",
       "        text-align: right;\n",
       "    }\n",
       "</style>\n",
       "<table border=\"1\" class=\"dataframe\">\n",
       "  <thead>\n",
       "    <tr style=\"text-align: right;\">\n",
       "      <th></th>\n",
       "      <th>match id</th>\n",
       "      <th>team1</th>\n",
       "      <th>team1_id</th>\n",
       "      <th>team1_roster_ids</th>\n",
       "      <th>team2</th>\n",
       "      <th>team2_id</th>\n",
       "      <th>team2_roster_ids</th>\n",
       "      <th>toss winner</th>\n",
       "      <th>toss decision</th>\n",
       "      <th>venue</th>\n",
       "      <th>city</th>\n",
       "      <th>match_dt</th>\n",
       "      <th>lighting</th>\n",
       "      <th>series_name</th>\n",
       "      <th>season</th>\n",
       "      <th>ground_id</th>\n",
       "      <th>team_count_50runs_last15</th>\n",
       "      <th>team_winp_last5</th>\n",
       "      <th>team1only_avg_runs_last15</th>\n",
       "      <th>team1_winp_team2_last15</th>\n",
       "      <th>ground_avg_runs_last15</th>\n",
       "    </tr>\n",
       "  </thead>\n",
       "  <tbody>\n",
       "    <tr>\n",
       "      <th>0</th>\n",
       "      <td>9272619</td>\n",
       "      <td>Me Ss</td>\n",
       "      <td>33949</td>\n",
       "      <td>4003390.0:7960994.0:3901078.0:2669316.0:3737103.0:5469092.0:1829491.0:5419532.0:4012203.0:6308098.0:2656541.0</td>\n",
       "      <td>Ht Hs</td>\n",
       "      <td>33928</td>\n",
       "      <td>5843200.0:4223883.0:4655384.0:6249256.0:2161599.0:3459623.0:8497866.0:4767832.0:4238975.0:5788418.0:6732004.0</td>\n",
       "      <td>Ht Hs</td>\n",
       "      <td>field</td>\n",
       "      <td>Be Ol Ht</td>\n",
       "      <td>Hobart</td>\n",
       "      <td>2023-01-09</td>\n",
       "      <td>night match</td>\n",
       "      <td>Bg Bh Le</td>\n",
       "      <td>2022/23</td>\n",
       "      <td>6348</td>\n",
       "      <td>0.666667</td>\n",
       "      <td>1.000000</td>\n",
       "      <td>167.933333</td>\n",
       "      <td>60.0</td>\n",
       "      <td>154.115385</td>\n",
       "    </tr>\n",
       "    <tr>\n",
       "      <th>1</th>\n",
       "      <td>9086958</td>\n",
       "      <td>Na</td>\n",
       "      <td>209</td>\n",
       "      <td>5836452.0:8246468.0:7500324.0:3065502.0:3633503.0:3377359.0:1547993.0:3876760.0:4176661.0:2311574.0:7488753.0</td>\n",
       "      <td>Si La</td>\n",
       "      <td>69</td>\n",
       "      <td>7200598.0:4403531.0:3260564.0:2420760.0:2398346.0:3061225.0:5490666.0:4365878.0:5786836.0:3865077.0:7968225.0</td>\n",
       "      <td>Si La</td>\n",
       "      <td>field</td>\n",
       "      <td>GA Sm Sh Gg Va</td>\n",
       "      <td>Geelong</td>\n",
       "      <td>2022-10-16</td>\n",
       "      <td>day/night match</td>\n",
       "      <td>Si La tr of Aa</td>\n",
       "      <td>2022/23</td>\n",
       "      <td>3961</td>\n",
       "      <td>0.142857</td>\n",
       "      <td>0.207921</td>\n",
       "      <td>141.888889</td>\n",
       "      <td>0.0</td>\n",
       "      <td>142.833333</td>\n",
       "    </tr>\n",
       "  </tbody>\n",
       "</table>\n",
       "</div>"
      ],
      "text/plain": [
       "   match id  team1  ...  team1_winp_team2_last15 ground_avg_runs_last15\n",
       "0  9272619   Me Ss  ...  60.0                     154.115385           \n",
       "1  9086958   Na     ...  0.0                      142.833333           \n",
       "\n",
       "[2 rows x 21 columns]"
      ]
     },
     "execution_count": 62,
     "metadata": {},
     "output_type": "execute_result"
    }
   ],
   "source": [
    "# In[37]:\n",
    "\n",
    "\n",
    "test_data.shape\n",
    "test_data.head(2)"
   ]
  },
  {
   "cell_type": "code",
   "execution_count": 63,
   "metadata": {},
   "outputs": [],
   "source": [
    "# ### 5. ground_avg_runs_last15 <br>\n",
    "# average runs scored in the ground in last 15 games"
   ]
  },
  {
   "cell_type": "code",
   "execution_count": 64,
   "metadata": {},
   "outputs": [],
   "source": [
    "# In[38]:\n",
    "\n",
    "\n",
    "def avgRunsGround(ground_id, date, n):\n",
    "    '''\n",
    "    Function to calculate average runs scored in ground/venue.\n",
    "    \n",
    "    Input-\n",
    "    1. ground_id: ID of the ground to calculate the feature for.\n",
    "    2. date: match date of the current game to calculate the feature for.\n",
    "    3. n: look-back window of games for the ground.\n",
    "    \n",
    "    Output- None\n",
    "    \n",
    "    Returns- Average runs scored in the ground.\n",
    "    '''\n",
    "    # filter out games with ground_id being the input ground_id and date earlier than current game's input date. Sort desc by date, and select top n rows (games).\n",
    "    df_rel = match_lvl_data[(match_lvl_data['match_dt']<date)&(match_lvl_data['ground_id']==ground_id)].sort_values(by='match_dt', ascending=False).head(n)\n",
    "    df_rel['avg_runs_inn'] = (df_rel['inning1_runs']+df_rel['inning2_runs'])/2 # take the mean of inning1_runs and inning2_runs in a separate column.\n",
    "    return df_rel['avg_runs_inn'].mean() # Return the mean value of the computed column above."
   ]
  },
  {
   "cell_type": "code",
   "execution_count": 65,
   "metadata": {},
   "outputs": [
    {
     "name": "stderr",
     "output_type": "stream",
     "text": [
      "100%|██████████| 948/948 [00:01<00:00, 754.79it/s]\n",
      "100%|██████████| 207/207 [00:00<00:00, 755.50it/s]\n"
     ]
    }
   ],
   "source": [
    "# In[39]:\n",
    "\n",
    "\n",
    "## Calculate average runs in the ground for last 15 games hosted in that venue for train data.\n",
    "train_data['ground_avg_runs_last15'] = train_data.progress_apply(lambda x: \\\n",
    "                                  avgRunsGround(x['ground_id'], x['match_dt'], 15), axis=1)\n",
    "## Similarly for test data.\n",
    "test_data['ground_avg_runs_last15'] = test_data.progress_apply(lambda x: \\\n",
    "                                  avgRunsGround(x['ground_id'], x['match_dt'], 15), axis=1)"
   ]
  },
  {
   "cell_type": "code",
   "execution_count": 66,
   "metadata": {},
   "outputs": [],
   "source": [
    "# Function to determine which team plays which innings\n",
    "def get_innings(team_id, toss_winner, toss_decision, team1_id):\n",
    "    if toss_winner == team1_id:\n",
    "        if toss_decision == 'bat':\n",
    "            return 1 if team_id == team1_id else 2\n",
    "        else:\n",
    "            return 2 if team_id == team1_id else 1\n",
    "    else:\n",
    "        if toss_decision == 'bat':\n",
    "            return 1 if team_id != team1_id else 2\n",
    "        else:\n",
    "            return 2 if team_id != team1_id else 1\n"
   ]
  },
  {
   "cell_type": "code",
   "execution_count": 67,
   "metadata": {},
   "outputs": [],
   "source": [
    "# Function to calculate run rate in the last n matches\n",
    "def run_rate_last_n_matches(team_id, date, n):\n",
    "    # Filter matches involving the team before the given date\n",
    "    df_rel = match_lvl_data[(match_lvl_data['match_dt'] < date) &\n",
    "                            ((match_lvl_data['team1_id'] == team_id) |\n",
    "                             (match_lvl_data['team2_id'] == team_id))].sort_values(by='match_dt', ascending=False).head(n)\n",
    "    if df_rel.empty:\n",
    "        return 0\n",
    "    \n",
    "    # Determine the innings for each match\n",
    "    df_rel['team_innings'] = df_rel.apply(lambda x: get_innings(team_id, x['toss winner'], x['toss decision'], x['team1_id']), axis=1)\n",
    "    \n",
    "    # Calculate total runs and total overs\n",
    "    df_rel['total_runs'] = np.where(df_rel['team_innings'] == 1, df_rel['inning1_runs'], df_rel['inning2_runs'])\n",
    "    df_rel['total_overs'] = np.where(df_rel['team_innings'] == 1, df_rel['inning1_balls'], df_rel['inning2_balls']) / 6  # Convert balls to overs\n",
    "    total_runs = df_rel['total_runs'].sum()\n",
    "    total_overs = df_rel['total_overs'].sum()\n",
    "    if total_overs == 0:\n",
    "        return 0\n",
    "    # Calculate run rate\n",
    "    return total_runs / total_overs"
   ]
  },
  {
   "cell_type": "markdown",
   "metadata": {},
   "source": [
    "#### Dropping the wicket ratio feature as it turns out to be non important"
   ]
  },
  {
   "cell_type": "code",
   "execution_count": 68,
   "metadata": {},
   "outputs": [],
   "source": [
    "# def avg_wickets_last_n_matches(team_id, date, n):\n",
    "#     # Filter matches involving the team before the given date\n",
    "#     df_rel = match_lvl_data[(match_lvl_data['match_dt'] < date) &\n",
    "#                             ((match_lvl_data['team1_id'] == team_id) |\n",
    "#                              (match_lvl_data['team2_id'] == team_id))].sort_values(by='match_dt', ascending=False).head(n)\n",
    "#     if df_rel.empty:\n",
    "#         return 0\n",
    "\n",
    "#     # Determine the innings for each match\n",
    "#     df_rel['team_innings'] = df_rel.apply(lambda x: get_innings(team_id, x['toss winner'], x['toss decision'], x['team1_id']), axis=1)\n",
    "    \n",
    "#     # Calculate total wickets\n",
    "#     df_rel['total_wickets'] = np.where(df_rel['team_innings'] == 1, df_rel['inning2_wickets'], df_rel['inning1_wickets'])\n",
    "#     total_wickets = df_rel['total_wickets'].sum()\n",
    "#     matches_played = df_rel.shape[0]\n",
    "#     if matches_played == 0:\n",
    "#         return 0\n",
    "#     # Calculate average wickets per match\n",
    "#     return total_wickets / matches_played"
   ]
  },
  {
   "cell_type": "code",
   "execution_count": 69,
   "metadata": {},
   "outputs": [
    {
     "name": "stderr",
     "output_type": "stream",
     "text": [
      "100%|██████████| 948/948 [00:02<00:00, 345.95it/s]\n",
      "100%|██████████| 948/948 [00:03<00:00, 275.37it/s]\n"
     ]
    }
   ],
   "source": [
    "# Apply the function to compute the run rate and wickets for each team\n",
    "train_data['team1_run_rate_last15'] = train_data.progress_apply(lambda x: run_rate_last_n_matches(x['team1_id'], x['match_dt'], 15), axis=1)\n",
    "train_data['team2_run_rate_last15'] = train_data.progress_apply(lambda x: run_rate_last_n_matches(x['team2_id'], x['match_dt'], 15), axis=1)\n",
    "# train_data['team1_avg_wickets_last15'] = train_data.progress_apply(lambda x: avg_wickets_last_n_matches(x['team1_id'], x['match_dt'], 15), axis=1)\n",
    "# train_data['team2_avg_wickets_last15'] = train_data.progress_apply(lambda x: avg_wickets_last_n_matches(x['team2_id'], x['match_dt'], 15), axis=1)\n",
    "\n",
    "# Compute the ratio of team1's run rate to team2's run rate and wickets\n",
    "train_data['run_rate_ratio_last15'] = train_data['team1_run_rate_last15'] / (train_data['team2_run_rate_last15'] + 1e-5)  # Adding a small value to avoid division by zero\n",
    "# train_data['wicket_ratio_last15'] = train_data['team1_avg_wickets_last15'] / (train_data['team2_avg_wickets_last15'] + 1e-5)\n",
    "\n",
    "# Drop intermediate columns\n",
    "train_data.drop(columns=['team1_run_rate_last15', 'team2_run_rate_last15'], inplace=True)"
   ]
  },
  {
   "cell_type": "code",
   "execution_count": 70,
   "metadata": {},
   "outputs": [
    {
     "name": "stdout",
     "output_type": "stream",
     "text": [
      "slope: 0.54 / 0.47 =  1.14\n"
     ]
    },
    {
     "data": {
      "image/png": "[encoded data removed]",
      "text/plain": [
       "<Figure size 1000x500 with 1 Axes>"
      ]
     },
     "metadata": {},
     "output_type": "display_data"
    }
   ],
   "source": [
    "createRnP(train_data, 'run_rate_ratio_last15')"
   ]
  },
  {
   "cell_type": "code",
   "execution_count": 71,
   "metadata": {},
   "outputs": [],
   "source": [
    "# createRnP(train_data, 'wicket_ratio_last15')"
   ]
  },
  {
   "cell_type": "code",
   "execution_count": 72,
   "metadata": {},
   "outputs": [
    {
     "name": "stderr",
     "output_type": "stream",
     "text": [
      "100%|██████████| 207/207 [00:00<00:00, 358.10it/s]\n",
      "100%|██████████| 207/207 [00:00<00:00, 386.79it/s]\n"
     ]
    }
   ],
   "source": [
    "# Apply the same process to the test data\n",
    "test_data['team1_run_rate_last15'] = test_data.progress_apply(lambda x: run_rate_last_n_matches(x['team1_id'], x['match_dt'], 15), axis=1)\n",
    "test_data['team2_run_rate_last15'] = test_data.progress_apply(lambda x: run_rate_last_n_matches(x['team2_id'], x['match_dt'], 15), axis=1)\n",
    "# test_data['team1_avg_wickets_last15'] = test_data.progress_apply(lambda x: avg_wickets_last_n_matches(x['team1_id'], x['match_dt'], 15), axis=1)\n",
    "# test_data['team2_avg_wickets_last15'] = test_data.progress_apply(lambda x: avg_wickets_last_n_matches(x['team2_id'], x['match_dt'], 15), axis=1)\n",
    "\n",
    "# Compute the ratio of team1's run rate to team2's run rate and wickets\n",
    "test_data['run_rate_ratio_last15'] = test_data['team1_run_rate_last15'] / (test_data['team2_run_rate_last15'] + 1e-5)\n",
    "# test_data['wicket_ratio_last15'] = test_data['team1_avg_wickets_last15'] / (test_data['team2_avg_wickets_last15'] + 1e-5)\n",
    "\n",
    "# Drop intermediate columns\n",
    "test_data.drop(columns=['team1_run_rate_last15', 'team2_run_rate_last15'], inplace=True)"
   ]
  },
  {
   "cell_type": "code",
   "execution_count": 73,
   "metadata": {},
   "outputs": [],
   "source": [
    "def top_performers_last_n(player_list, date, n, m, bat_or_bowl):\n",
    "    player_list = str(player_list).split(':')\n",
    "    performances = []\n",
    "    \n",
    "    for player in player_list:\n",
    "        df_rel = giveLastNgamesPlayer(player_id=player, date=date, n=n, bat_or_bowl=bat_or_bowl)\n",
    "        if not df_rel.empty:\n",
    "            avg_performance = df_rel['runs'].mean() if bat_or_bowl == 'bat' else df_rel['wickets'].mean()\n",
    "            performances.append((player, avg_performance))\n",
    "    \n",
    "    # Sort players by average performance and select top m players\n",
    "    performances.sort(key=lambda x: x[1], reverse=True)\n",
    "    top_performers = performances[:m]\n",
    "    \n",
    "    return top_performers"
   ]
  },
  {
   "cell_type": "code",
   "execution_count": 74,
   "metadata": {},
   "outputs": [],
   "source": [
    "def key_player_avg_runs_ratio(team1_player_list, team2_player_list, date, n, m):\n",
    "    team1_top_batsmen = top_performers_last_n(team1_player_list, date, n, m, 'bat')\n",
    "    team2_top_batsmen = top_performers_last_n(team2_player_list, date, n, m, 'bat')\n",
    "    \n",
    "    team1_avg_runs = np.nanmean([performance[1] for performance in team1_top_batsmen]) if team1_top_batsmen else 0\n",
    "    team2_avg_runs = np.nanmean([performance[1] for performance in team2_top_batsmen]) if team2_top_batsmen else 0\n",
    "    \n",
    "    if team2_avg_runs == 0:\n",
    "        return team1_avg_runs  # Avoid division by zero\n",
    "    return team1_avg_runs / team2_avg_runs\n"
   ]
  },
  {
   "cell_type": "code",
   "execution_count": 75,
   "metadata": {},
   "outputs": [
    {
     "name": "stderr",
     "output_type": "stream",
     "text": [
      "100%|██████████| 948/948 [00:42<00:00, 22.44it/s]\n",
      "100%|██████████| 207/207 [00:08<00:00, 24.23it/s]\n"
     ]
    }
   ],
   "source": [
    "train_data['key_batsman_runs_ratio_last15'] = train_data.progress_apply(lambda x: key_player_avg_runs_ratio(x['team1_roster_ids'], x['team2_roster_ids'], x['match_dt'], 15, 3), axis=1)\n",
    "test_data['key_batsman_runs_ratio_last15'] = test_data.progress_apply(lambda x: key_player_avg_runs_ratio(x['team1_roster_ids'], x['team2_roster_ids'], x['match_dt'], 15, 3), axis=1)"
   ]
  },
  {
   "cell_type": "code",
   "execution_count": 76,
   "metadata": {},
   "outputs": [
    {
     "name": "stdout",
     "output_type": "stream",
     "text": [
      "slope: 0.58 / 0.44 =  1.3\n"
     ]
    },
    {
     "data": {
      "image/png": "[encoded data removed]",
      "text/plain": [
       "<Figure size 1000x500 with 1 Axes>"
      ]
     },
     "metadata": {},
     "output_type": "display_data"
    }
   ],
   "source": [
    "createRnP(train_data, 'key_batsman_runs_ratio_last15')"
   ]
  },
  {
   "cell_type": "code",
   "execution_count": 77,
   "metadata": {},
   "outputs": [],
   "source": [
    "def giveLastNgamesBowler(player_id, date, n):\n",
    "    return bowler_lvl_data[(bowler_lvl_data['match_dt'] < date) & (bowler_lvl_data['bowler_id'] == float(player_id))].sort_values(by='match_dt', ascending=False).head(n)"
   ]
  },
  {
   "cell_type": "code",
   "execution_count": 78,
   "metadata": {},
   "outputs": [],
   "source": [
    "def top_bowlers_last_n_wickets(player_list, date, n, m):\n",
    "    player_list = str(player_list).split(':')\n",
    "    performances = []\n",
    "    \n",
    "    for player in player_list:\n",
    "        df_rel = giveLastNgamesBowler(player_id=player, date=date, n=n)\n",
    "        if not df_rel.empty:\n",
    "            avg_wickets = df_rel['wicket_count'].mean()  # Replace 'wickets_taken' with the correct column name\n",
    "            performances.append((player, avg_wickets))\n",
    "    \n",
    "    # Sort players by average wickets and select top m players\n",
    "    performances.sort(key=lambda x: x[1], reverse=True)\n",
    "    top_performers = performances[:m]\n",
    "    \n",
    "    return top_performers"
   ]
  },
  {
   "cell_type": "code",
   "execution_count": 79,
   "metadata": {},
   "outputs": [],
   "source": [
    "def key_bowler_avg_wickets_ratio(team1_player_list, team2_player_list, date, n, m):\n",
    "    team1_top_bowlers = top_bowlers_last_n_wickets(team1_player_list, date, n, m)\n",
    "    team2_top_bowlers = top_bowlers_last_n_wickets(team2_player_list, date, n, m)\n",
    "    \n",
    "    team1_avg_wickets = np.nanmean([performance[1] for performance in team1_top_bowlers]) if team1_top_bowlers else 0\n",
    "    team2_avg_wickets = np.nanmean([performance[1] for performance in team2_top_bowlers]) if team2_top_bowlers else 0\n",
    "    \n",
    "    if team2_avg_wickets == 0:\n",
    "        return team1_avg_wickets  # Avoid division by zero\n",
    "    return team1_avg_wickets / team2_avg_wickets\n"
   ]
  },
  {
   "cell_type": "code",
   "execution_count": 80,
   "metadata": {},
   "outputs": [
    {
     "name": "stderr",
     "output_type": "stream",
     "text": [
      "100%|██████████| 948/948 [00:34<00:00, 27.35it/s]\n",
      "100%|██████████| 207/207 [00:08<00:00, 24.62it/s]\n"
     ]
    }
   ],
   "source": [
    "train_data['key_bowler_wickets_ratio_last15'] = train_data.progress_apply(lambda x: key_bowler_avg_wickets_ratio(x['team1_roster_ids'], x['team2_roster_ids'], x['match_dt'], 15, 3), axis=1)\n",
    "test_data['key_bowler_wickets_ratio_last15'] = test_data.progress_apply(lambda x: key_bowler_avg_wickets_ratio(x['team1_roster_ids'], x['team2_roster_ids'], x['match_dt'], 15, 3), axis=1)"
   ]
  },
  {
   "cell_type": "code",
   "execution_count": 81,
   "metadata": {},
   "outputs": [],
   "source": [
    "# def top_performers_last_n_wickets(player_list, date, n, m):\n",
    "#     player_list = str(player_list).split(':')\n",
    "#     performances = []\n",
    "    \n",
    "#     for player in player_list:\n",
    "#         df_rel = giveLastNgamesPlayer(player_id=player, date=date, n=n, bat_or_bowl='bowl')\n",
    "#         if not df_rel.empty:\n",
    "#             avg_wickets = df_rel['wickets'].mean()\n",
    "#             performances.append((player, avg_wickets))\n",
    "    \n",
    "#     # Sort players by average wickets and select top m players\n",
    "#     performances.sort(key=lambda x: x[1], reverse=True)\n",
    "#     top_performers = performances[:m]\n",
    "    \n",
    "#     return top_performers"
   ]
  },
  {
   "cell_type": "code",
   "execution_count": 82,
   "metadata": {},
   "outputs": [],
   "source": [
    "# def key_bowler_avg_wickets_ratio(team1_player_list, team2_player_list, date, n, m):\n",
    "#     team1_top_bowlers = top_performers_last_n_wickets(team1_player_list, date, n, m)\n",
    "#     team2_top_bowlers = top_performers_last_n_wickets(team2_player_list, date, n, m)\n",
    "    \n",
    "#     team1_avg_wickets = np.nanmean([performance[1] for performance in team1_top_bowlers]) if team1_top_bowlers else 0\n",
    "#     team2_avg_wickets = np.nanmean([performance[1] for performance in team2_top_bowlers]) if team2_top_bowlers else 0\n",
    "    \n",
    "#     if team2_avg_wickets == 0:\n",
    "#         return team1_avg_wickets  # Avoid division by zero\n",
    "#     return team1_avg_wickets / team2_avg_wickets\n"
   ]
  },
  {
   "cell_type": "code",
   "execution_count": 83,
   "metadata": {},
   "outputs": [],
   "source": [
    "# train_data['key_bowler_wickets_ratio_last15'] = train_data.progress_apply(lambda x: key_bowler_avg_wickets_ratio(x['team1_roster_ids'], x['team2_roster_ids'], x['match_dt'], 15, 3), axis=1)\n",
    "# test_data['key_bowler_wickets_ratio_last15'] = test_data.progress_apply(lambda x: key_bowler_avg_wickets_ratio(x['team1_roster_ids'], x['team2_roster_ids'], x['match_dt'], 15, 3), axis=1)"
   ]
  },
  {
   "cell_type": "code",
   "execution_count": 84,
   "metadata": {},
   "outputs": [
    {
     "name": "stdout",
     "output_type": "stream",
     "text": [
      "slope: 0.53 / 0.47 =  1.12\n"
     ]
    },
    {
     "data": {
      "image/png": "[encoded data removed]",
      "text/plain": [
       "<Figure size 1000x500 with 1 Axes>"
      ]
     },
     "metadata": {},
     "output_type": "display_data"
    }
   ],
   "source": [
    "createRnP(train_data, 'key_bowler_wickets_ratio_last15')"
   ]
  },
  {
   "cell_type": "code",
   "execution_count": 85,
   "metadata": {},
   "outputs": [],
   "source": [
    "def give_last_n_games_bowler(player_id, date, n):\n",
    "    return bowler_lvl_data[(bowler_lvl_data['match_dt'] < date) & (bowler_lvl_data['bowler_id'] == float(player_id))].sort_values(by='match_dt', ascending=False).head(n)"
   ]
  },
  {
   "cell_type": "code",
   "execution_count": 86,
   "metadata": {},
   "outputs": [],
   "source": [
    "def average_economy_last_n_matches(player_list, date, n):\n",
    "    player_list = str(player_list).split(':')\n",
    "    economies = []\n",
    "    for player in player_list:\n",
    "        df_rel = give_last_n_games_bowler(player_id=player, date=date, n=n)\n",
    "        if not df_rel.empty:\n",
    "            avg_economy = df_rel['economy'].mean()\n",
    "            economies.append(avg_economy)\n",
    "    \n",
    "    if economies:\n",
    "        return np.nanmean(economies)\n",
    "    return 0"
   ]
  },
  {
   "cell_type": "code",
   "execution_count": 87,
   "metadata": {},
   "outputs": [],
   "source": [
    "def economy_rate_ratio(team1_player_list, team2_player_list, date, n):\n",
    "    team1_avg_economy = average_economy_last_n_matches(team1_player_list, date, n)\n",
    "    team2_avg_economy = average_economy_last_n_matches(team2_player_list, date, n)\n",
    "    \n",
    "    if team2_avg_economy == 0:\n",
    "        return team1_avg_economy  # Avoid division by zero\n",
    "    return team1_avg_economy / team2_avg_economy"
   ]
  },
  {
   "cell_type": "code",
   "execution_count": 88,
   "metadata": {},
   "outputs": [
    {
     "name": "stderr",
     "output_type": "stream",
     "text": [
      "100%|██████████| 948/948 [00:33<00:00, 28.12it/s]\n",
      "100%|██████████| 207/207 [00:07<00:00, 26.21it/s]\n"
     ]
    }
   ],
   "source": [
    "train_data['economy_rate_ratio_last15'] = train_data.progress_apply(lambda x: economy_rate_ratio(x['team1_roster_ids'], x['team2_roster_ids'], x['match_dt'], 15), axis=1)\n",
    "test_data['economy_rate_ratio_last15'] = test_data.progress_apply(lambda x: economy_rate_ratio(x['team1_roster_ids'], x['team2_roster_ids'], x['match_dt'], 15), axis=1)"
   ]
  },
  {
   "cell_type": "code",
   "execution_count": 89,
   "metadata": {},
   "outputs": [
    {
     "name": "stdout",
     "output_type": "stream",
     "text": [
      "slope: 0.54 / 0.46 =  1.18\n"
     ]
    },
    {
     "data": {
      "image/png": "[encoded data removed]",
      "text/plain": [
       "<Figure size 1000x500 with 1 Axes>"
      ]
     },
     "metadata": {},
     "output_type": "display_data"
    }
   ],
   "source": [
    "createRnP(train_data, 'economy_rate_ratio_last15')"
   ]
  },
  {
   "cell_type": "code",
   "execution_count": 90,
   "metadata": {},
   "outputs": [],
   "source": [
    "def average_dots_last_n_matches(player_list, date, n):\n",
    "    player_list = str(player_list).split(':')\n",
    "    numberofdots = []\n",
    "    for player in player_list:\n",
    "        df_rel = give_last_n_games_bowler(player_id=player, date=date, n=n)\n",
    "        if not df_rel.empty:\n",
    "            avg_dots = df_rel['dots'].mean()\n",
    "            numberofdots.append(avg_dots)\n",
    "    \n",
    "    if numberofdots:\n",
    "        return np.nanmean(numberofdots)\n",
    "    return 0"
   ]
  },
  {
   "cell_type": "code",
   "execution_count": 91,
   "metadata": {},
   "outputs": [],
   "source": [
    "def dot_ball_ratio(team1_player_list, team2_player_list, date, n):\n",
    "    team1_avg_dots = average_dots_last_n_matches(team1_player_list, date, n)\n",
    "    team2_avg_dots = average_dots_last_n_matches(team2_player_list, date, n)\n",
    "    \n",
    "    if team2_avg_dots == 0:\n",
    "        return team1_avg_dots  # Avoid division by zero\n",
    "    return team1_avg_dots / team2_avg_dots"
   ]
  },
  {
   "cell_type": "code",
   "execution_count": 92,
   "metadata": {},
   "outputs": [
    {
     "name": "stderr",
     "output_type": "stream",
     "text": [
      "100%|██████████| 948/948 [00:33<00:00, 28.65it/s]\n",
      "100%|██████████| 207/207 [00:08<00:00, 25.69it/s]\n"
     ]
    }
   ],
   "source": [
    "train_data['dots_ratio_last15'] = train_data.progress_apply(lambda x: dot_ball_ratio(x['team1_roster_ids'], x['team2_roster_ids'], x['match_dt'], 15), axis=1)\n",
    "test_data['dots_ratio_last15'] = test_data.progress_apply(lambda x: dot_ball_ratio(x['team1_roster_ids'], x['team2_roster_ids'], x['match_dt'], 15), axis=1)"
   ]
  },
  {
   "cell_type": "code",
   "execution_count": 93,
   "metadata": {},
   "outputs": [
    {
     "name": "stdout",
     "output_type": "stream",
     "text": [
      "slope: 0.52 / 0.4 =  1.28\n"
     ]
    },
    {
     "data": {
      "image/png": "[encoded data removed]",
      "text/plain": [
       "<Figure size 1000x500 with 1 Axes>"
      ]
     },
     "metadata": {},
     "output_type": "display_data"
    }
   ],
   "source": [
    "createRnP(train_data, 'dots_ratio_last15')"
   ]
  },
  {
   "cell_type": "code",
   "execution_count": 94,
   "metadata": {},
   "outputs": [],
   "source": [
    "def give_last_n_games_batsman(player_id, date, n):\n",
    "    return batsman_lvl_data[(batsman_lvl_data['match_dt'] < date) & (batsman_lvl_data['batsman_id'] == float(player_id))].sort_values(by='match_dt', ascending=False).head(n)\n"
   ]
  },
  {
   "cell_type": "code",
   "execution_count": 95,
   "metadata": {},
   "outputs": [],
   "source": [
    "def average_strike_rate_last_n_matches(player_list, date, n):\n",
    "    player_list = str(player_list).split(':')\n",
    "    strike_rates = []\n",
    "    \n",
    "    for player in player_list:\n",
    "        df_rel = give_last_n_games_batsman(player_id=player, date=date, n=n)\n",
    "        if not df_rel.empty:\n",
    "            # df_rel['strike_rate'] = (df_rel['runs_scored'] / df_rel['balls_faced']) * 100\n",
    "            avg_strike_rate = df_rel['strike_rate'].mean()\n",
    "            strike_rates.append(avg_strike_rate)\n",
    "    \n",
    "    if strike_rates:\n",
    "        return np.nanmean(strike_rates)\n",
    "    return 0"
   ]
  },
  {
   "cell_type": "code",
   "execution_count": 96,
   "metadata": {},
   "outputs": [],
   "source": [
    "def strike_rate_ratio(team1_player_list, team2_player_list, date, n):\n",
    "    team1_avg_strike_rate = average_strike_rate_last_n_matches(team1_player_list, date, n)\n",
    "    team2_avg_strike_rate = average_strike_rate_last_n_matches(team2_player_list, date, n)\n",
    "    \n",
    "    if team2_avg_strike_rate == 0:\n",
    "        return team1_avg_strike_rate  # Avoid division by zero\n",
    "    return team1_avg_strike_rate / team2_avg_strike_rate"
   ]
  },
  {
   "cell_type": "code",
   "execution_count": 97,
   "metadata": {},
   "outputs": [
    {
     "name": "stderr",
     "output_type": "stream",
     "text": [
      "100%|██████████| 948/948 [00:41<00:00, 22.83it/s]\n",
      "100%|██████████| 207/207 [00:08<00:00, 24.08it/s]\n"
     ]
    }
   ],
   "source": [
    "train_data['strike_rate_ratio_last15'] = train_data.progress_apply(lambda x: strike_rate_ratio(x['team1_roster_ids'], x['team2_roster_ids'], x['match_dt'], 15), axis=1)\n",
    "test_data['strike_rate_ratio_last15'] = test_data.progress_apply(lambda x: strike_rate_ratio(x['team1_roster_ids'], x['team2_roster_ids'], x['match_dt'], 15), axis=1)\n"
   ]
  },
  {
   "cell_type": "code",
   "execution_count": 98,
   "metadata": {},
   "outputs": [
    {
     "name": "stdout",
     "output_type": "stream",
     "text": [
      "slope: 0.55 / 0.37 =  1.5\n"
     ]
    },
    {
     "data": {
      "image/png": "[encoded data removed]",
      "text/plain": [
       "<Figure size 1000x500 with 1 Axes>"
      ]
     },
     "metadata": {},
     "output_type": "display_data"
    }
   ],
   "source": [
    "createRnP(train_data, 'strike_rate_ratio_last15')"
   ]
  },
  {
   "cell_type": "code",
   "execution_count": 99,
   "metadata": {},
   "outputs": [],
   "source": [
    "def give_last_n_games_bowler(player_id, date, n):\n",
    "    return bowler_lvl_data[(bowler_lvl_data['match_dt'] < date) & (bowler_lvl_data['bowler_id'] == float(player_id))].sort_values(by='match_dt', ascending=False).head(n)\n",
    "\n",
    "def average_sum_last_n_matches(player_list, date, n):\n",
    "    player_list = str(player_list).split(':')\n",
    "    sums = []\n",
    "    \n",
    "    for player in player_list:\n",
    "        df_rel = give_last_n_games_bowler(player_id=player, date=date, n=n)\n",
    "        if not df_rel.empty:\n",
    "            df_rel['sum_metrics'] = df_rel[['Fours', 'Sixes', 'wides', 'noballs']].sum(axis=1)\n",
    "            avg_sum = df_rel['sum_metrics'].mean()\n",
    "            sums.append(avg_sum)\n",
    "    \n",
    "    if sums:\n",
    "        return np.nanmean(sums)\n",
    "    return 0\n",
    "\n",
    "def metrics_ratio(team1_player_list, team2_player_list, date, n):\n",
    "    team1_avg_sum = average_sum_last_n_matches(team1_player_list, date, n)\n",
    "    team2_avg_sum = average_sum_last_n_matches(team2_player_list, date, n)\n",
    "    \n",
    "    if team2_avg_sum == 0:\n",
    "        return team1_avg_sum  # Avoid division by zero\n",
    "    return team1_avg_sum / team2_avg_sum\n",
    "\n"
   ]
  },
  {
   "cell_type": "code",
   "execution_count": 100,
   "metadata": {},
   "outputs": [
    {
     "name": "stderr",
     "output_type": "stream",
     "text": [
      "100%|██████████| 948/948 [00:39<00:00, 24.17it/s]\n",
      "100%|██████████| 207/207 [00:08<00:00, 25.57it/s]\n"
     ]
    }
   ],
   "source": [
    "train_data['metrics_ratio_last15'] = train_data.progress_apply(lambda x: metrics_ratio(x['team1_roster_ids'], x['team2_roster_ids'], x['match_dt'], 15), axis=1)\n",
    "test_data['metrics_ratio_last15'] = test_data.progress_apply(lambda x: metrics_ratio(x['team1_roster_ids'], x['team2_roster_ids'], x['match_dt'], 15), axis=1)\n",
    "\n"
   ]
  },
  {
   "cell_type": "code",
   "execution_count": 101,
   "metadata": {},
   "outputs": [],
   "source": [
    "def give_last_n_games_bowler(player_id, date, n):\n",
    "    return bowler_lvl_data[(bowler_lvl_data['match_dt'] < date) & (bowler_lvl_data['bowler_id'] == float(player_id))].sort_values(by='match_dt', ascending=False).head(n)\n",
    "\n",
    "def bowler_consistency(player_list, date, n):\n",
    "    player_list = str(player_list).split(':')\n",
    "    consistencies = []\n",
    "    \n",
    "    for player in player_list:\n",
    "        df_rel = give_last_n_games_bowler(player_id=player, date=date, n=n)\n",
    "        if not df_rel.empty:\n",
    "            # df_rel['economy_rate'] = df_rel['runs_conceded'] / (df_rel['balls_bowled'] / 6)\n",
    "            consistency = df_rel['economy'].std()\n",
    "            consistencies.append(consistency)\n",
    "    \n",
    "    if consistencies:\n",
    "        return np.nanmean(consistencies)\n",
    "    return 0\n",
    "\n",
    "def consistency_ratio(team1_player_list, team2_player_list, date, n):\n",
    "    team1_consistency = bowler_consistency(team1_player_list, date, n)\n",
    "    team2_consistency = bowler_consistency(team2_player_list, date, n)\n",
    "    \n",
    "    if team2_consistency == 0:\n",
    "        return team1_consistency  # Avoid division by zero\n",
    "    return team1_consistency / team2_consistency\n"
   ]
  },
  {
   "cell_type": "code",
   "execution_count": 102,
   "metadata": {},
   "outputs": [
    {
     "name": "stderr",
     "output_type": "stream",
     "text": [
      "  7%|▋         | 66/948 [00:02<00:27, 32.30it/s]/tmp/ipykernel_10241/2128802598.py:16: RuntimeWarning: Mean of empty slice\n",
      "  return np.nanmean(consistencies)\n",
      "100%|██████████| 948/948 [00:27<00:00, 34.33it/s]\n",
      "100%|██████████| 207/207 [00:06<00:00, 34.24it/s]\n"
     ]
    }
   ],
   "source": [
    "train_data['bowler_consistency_ratio_last15'] = train_data.progress_apply(lambda x: consistency_ratio(x['team1_roster_ids'], x['team2_roster_ids'], x['match_dt'], 15), axis=1)\n",
    "test_data['bowler_consistency_ratio_last15'] = test_data.progress_apply(lambda x: consistency_ratio(x['team1_roster_ids'], x['team2_roster_ids'], x['match_dt'], 15), axis=1)\n"
   ]
  },
  {
   "cell_type": "code",
   "execution_count": 103,
   "metadata": {},
   "outputs": [
    {
     "data": {
      "text/plain": [
       "(948, 35)"
      ]
     },
     "execution_count": 103,
     "metadata": {},
     "output_type": "execute_result"
    },
    {
     "data": {
      "text/html": [
       "<div>\n",
       "<style scoped>\n",
       "    .dataframe tbody tr th:only-of-type {\n",
       "        vertical-align: middle;\n",
       "    }\n",
       "\n",
       "    .dataframe tbody tr th {\n",
       "        vertical-align: top;\n",
       "    }\n",
       "\n",
       "    .dataframe thead th {\n",
       "        text-align: right;\n",
       "    }\n",
       "</style>\n",
       "<table border=\"1\" class=\"dataframe\">\n",
       "  <thead>\n",
       "    <tr style=\"text-align: right;\">\n",
       "      <th></th>\n",
       "      <th>match id</th>\n",
       "      <th>team1</th>\n",
       "      <th>team1_id</th>\n",
       "      <th>team1_roster_ids</th>\n",
       "      <th>team2</th>\n",
       "      <th>team2_id</th>\n",
       "      <th>team2_roster_ids</th>\n",
       "      <th>winner</th>\n",
       "      <th>winner_id</th>\n",
       "      <th>toss winner</th>\n",
       "      <th>toss decision</th>\n",
       "      <th>venue</th>\n",
       "      <th>city</th>\n",
       "      <th>match_dt</th>\n",
       "      <th>lighting</th>\n",
       "      <th>series_name</th>\n",
       "      <th>season</th>\n",
       "      <th>ground_id</th>\n",
       "      <th>team_count_50runs_last15</th>\n",
       "      <th>team_winp_last5</th>\n",
       "      <th>team1only_avg_runs_last15</th>\n",
       "      <th>team1_winp_team2_last15</th>\n",
       "      <th>ground_avg_runs_last15</th>\n",
       "      <th>run_rate_ratio_last15</th>\n",
       "      <th>wicket_ratio_last15</th>\n",
       "      <th>winner_01</th>\n",
       "      <th>team1_key_batsman_avg_runs_last15</th>\n",
       "      <th>team2_key_batsman_avg_runs_last15</th>\n",
       "      <th>key_batsman_runs_ratio_last15</th>\n",
       "      <th>key_bowler_wickets_ratio_last15</th>\n",
       "      <th>economy_rate_ratio_last15</th>\n",
       "      <th>dots_ratio_last15</th>\n",
       "      <th>strike_rate_ratio_last15</th>\n",
       "      <th>metrics_ratio_last15</th>\n",
       "      <th>bowler_consistency_ratio_last15</th>\n",
       "    </tr>\n",
       "  </thead>\n",
       "  <tbody>\n",
       "    <tr>\n",
       "      <th>0</th>\n",
       "      <td>9331181</td>\n",
       "      <td>Ba</td>\n",
       "      <td>11283</td>\n",
       "      <td>9373356.0:7857520.0:4232164.0:4566540.0:3299407.0:232000.0:7883504.0:8725723.0:7878989.0:2526390.0:8725730.0:4017523.0</td>\n",
       "      <td>Hl Ph</td>\n",
       "      <td>12634</td>\n",
       "      <td>3500958.0:4231751.0:2735081.0:2035102.0:3698337.0:5058192.0:6844718.0:4566526.0:6596582.0:4161975.0:7952804.0:8465057.0</td>\n",
       "      <td>Hl Ph</td>\n",
       "      <td>12634</td>\n",
       "      <td>Hl Ph</td>\n",
       "      <td>field</td>\n",
       "      <td>Hr Ct Sm Ie</td>\n",
       "      <td>Indore</td>\n",
       "      <td>2022-10-20</td>\n",
       "      <td>day/night match</td>\n",
       "      <td>Sd Mq Ai Ty</td>\n",
       "      <td>2022/23</td>\n",
       "      <td>7398</td>\n",
       "      <td>1.666667</td>\n",
       "      <td>0.672131</td>\n",
       "      <td>139.0</td>\n",
       "      <td>100.0</td>\n",
       "      <td>157.178571</td>\n",
       "      <td>0.972976</td>\n",
       "      <td>1.008332</td>\n",
       "      <td>1</td>\n",
       "      <td>13.866667</td>\n",
       "      <td>14.805128</td>\n",
       "      <td>1.200785</td>\n",
       "      <td>0.938452</td>\n",
       "      <td>0.936113</td>\n",
       "      <td>0.758968</td>\n",
       "      <td>0.973872</td>\n",
       "      <td>0.620487</td>\n",
       "      <td>1.161247</td>\n",
       "    </tr>\n",
       "    <tr>\n",
       "      <th>1</th>\n",
       "      <td>8797060</td>\n",
       "      <td>Ed</td>\n",
       "      <td>20</td>\n",
       "      <td>2089079.0:6139370.0:2076192.0:62432.0:2083409.0:172199.0:2022957.0:1482998.0:1711492.0:4507208.0:3231437.0</td>\n",
       "      <td>Wt Is</td>\n",
       "      <td>41</td>\n",
       "      <td>4690258.0:4069666.0:4230127.0:1942317.0:1613926.0:2740408.0:4739552.0:5744850.0:4690104.0:3715697.0:3468870.0</td>\n",
       "      <td>Ed</td>\n",
       "      <td>20</td>\n",
       "      <td>Wt Is</td>\n",
       "      <td>field</td>\n",
       "      <td>Kn Ol Bn Bs</td>\n",
       "      <td>Bridgetown</td>\n",
       "      <td>2022-01-23</td>\n",
       "      <td>day/night match</td>\n",
       "      <td>Ed tr of Wt Is</td>\n",
       "      <td>2021/22</td>\n",
       "      <td>1406</td>\n",
       "      <td>1.285714</td>\n",
       "      <td>1.952381</td>\n",
       "      <td>156.0</td>\n",
       "      <td>50.0</td>\n",
       "      <td>103.500000</td>\n",
       "      <td>1.028089</td>\n",
       "      <td>0.978020</td>\n",
       "      <td>0</td>\n",
       "      <td>13.387121</td>\n",
       "      <td>15.426263</td>\n",
       "      <td>1.075587</td>\n",
       "      <td>0.809151</td>\n",
       "      <td>0.967601</td>\n",
       "      <td>0.948735</td>\n",
       "      <td>0.859728</td>\n",
       "      <td>0.853746</td>\n",
       "      <td>0.827513</td>\n",
       "    </tr>\n",
       "  </tbody>\n",
       "</table>\n",
       "</div>"
      ],
      "text/plain": [
       "   match id team1  ...  metrics_ratio_last15 bowler_consistency_ratio_last15\n",
       "0  9331181   Ba    ...  0.620487              1.161247                      \n",
       "1  8797060   Ed    ...  0.853746              0.827513                      \n",
       "\n",
       "[2 rows x 35 columns]"
      ]
     },
     "execution_count": 103,
     "metadata": {},
     "output_type": "execute_result"
    }
   ],
   "source": [
    "# In[40]:\n",
    "\n",
    "\n",
    "train_data.shape\n",
    "train_data.head(2)"
   ]
  },
  {
   "cell_type": "code",
   "execution_count": 104,
   "metadata": {},
   "outputs": [
    {
     "data": {
      "text/plain": [
       "(207, 29)"
      ]
     },
     "execution_count": 104,
     "metadata": {},
     "output_type": "execute_result"
    },
    {
     "data": {
      "text/html": [
       "<div>\n",
       "<style scoped>\n",
       "    .dataframe tbody tr th:only-of-type {\n",
       "        vertical-align: middle;\n",
       "    }\n",
       "\n",
       "    .dataframe tbody tr th {\n",
       "        vertical-align: top;\n",
       "    }\n",
       "\n",
       "    .dataframe thead th {\n",
       "        text-align: right;\n",
       "    }\n",
       "</style>\n",
       "<table border=\"1\" class=\"dataframe\">\n",
       "  <thead>\n",
       "    <tr style=\"text-align: right;\">\n",
       "      <th></th>\n",
       "      <th>match id</th>\n",
       "      <th>team1</th>\n",
       "      <th>team1_id</th>\n",
       "      <th>team1_roster_ids</th>\n",
       "      <th>team2</th>\n",
       "      <th>team2_id</th>\n",
       "      <th>team2_roster_ids</th>\n",
       "      <th>toss winner</th>\n",
       "      <th>toss decision</th>\n",
       "      <th>venue</th>\n",
       "      <th>city</th>\n",
       "      <th>match_dt</th>\n",
       "      <th>lighting</th>\n",
       "      <th>series_name</th>\n",
       "      <th>season</th>\n",
       "      <th>ground_id</th>\n",
       "      <th>team_count_50runs_last15</th>\n",
       "      <th>team_winp_last5</th>\n",
       "      <th>team1only_avg_runs_last15</th>\n",
       "      <th>team1_winp_team2_last15</th>\n",
       "      <th>ground_avg_runs_last15</th>\n",
       "      <th>run_rate_ratio_last15</th>\n",
       "      <th>key_batsman_runs_ratio_last15</th>\n",
       "      <th>key_bowler_wickets_ratio_last15</th>\n",
       "      <th>economy_rate_ratio_last15</th>\n",
       "      <th>dots_ratio_last15</th>\n",
       "      <th>strike_rate_ratio_last15</th>\n",
       "      <th>metrics_ratio_last15</th>\n",
       "      <th>bowler_consistency_ratio_last15</th>\n",
       "    </tr>\n",
       "  </thead>\n",
       "  <tbody>\n",
       "    <tr>\n",
       "      <th>0</th>\n",
       "      <td>9272619</td>\n",
       "      <td>Me Ss</td>\n",
       "      <td>33949</td>\n",
       "      <td>4003390.0:7960994.0:3901078.0:2669316.0:3737103.0:5469092.0:1829491.0:5419532.0:4012203.0:6308098.0:2656541.0</td>\n",
       "      <td>Ht Hs</td>\n",
       "      <td>33928</td>\n",
       "      <td>5843200.0:4223883.0:4655384.0:6249256.0:2161599.0:3459623.0:8497866.0:4767832.0:4238975.0:5788418.0:6732004.0</td>\n",
       "      <td>Ht Hs</td>\n",
       "      <td>field</td>\n",
       "      <td>Be Ol Ht</td>\n",
       "      <td>Hobart</td>\n",
       "      <td>2023-01-09</td>\n",
       "      <td>night match</td>\n",
       "      <td>Bg Bh Le</td>\n",
       "      <td>2022/23</td>\n",
       "      <td>6348</td>\n",
       "      <td>0.666667</td>\n",
       "      <td>1.000000</td>\n",
       "      <td>167.933333</td>\n",
       "      <td>60.0</td>\n",
       "      <td>154.115385</td>\n",
       "      <td>0.971952</td>\n",
       "      <td>0.939633</td>\n",
       "      <td>1.229167</td>\n",
       "      <td>0.915210</td>\n",
       "      <td>0.963545</td>\n",
       "      <td>0.790943</td>\n",
       "      <td>0.779221</td>\n",
       "      <td>0.989726</td>\n",
       "    </tr>\n",
       "    <tr>\n",
       "      <th>1</th>\n",
       "      <td>9086958</td>\n",
       "      <td>Na</td>\n",
       "      <td>209</td>\n",
       "      <td>5836452.0:8246468.0:7500324.0:3065502.0:3633503.0:3377359.0:1547993.0:3876760.0:4176661.0:2311574.0:7488753.0</td>\n",
       "      <td>Si La</td>\n",
       "      <td>69</td>\n",
       "      <td>7200598.0:4403531.0:3260564.0:2420760.0:2398346.0:3061225.0:5490666.0:4365878.0:5786836.0:3865077.0:7968225.0</td>\n",
       "      <td>Si La</td>\n",
       "      <td>field</td>\n",
       "      <td>GA Sm Sh Gg Va</td>\n",
       "      <td>Geelong</td>\n",
       "      <td>2022-10-16</td>\n",
       "      <td>day/night match</td>\n",
       "      <td>Si La tr of Aa</td>\n",
       "      <td>2022/23</td>\n",
       "      <td>3961</td>\n",
       "      <td>0.142857</td>\n",
       "      <td>0.207921</td>\n",
       "      <td>141.888889</td>\n",
       "      <td>0.0</td>\n",
       "      <td>142.833333</td>\n",
       "      <td>0.882861</td>\n",
       "      <td>0.769471</td>\n",
       "      <td>1.131579</td>\n",
       "      <td>1.001591</td>\n",
       "      <td>0.862843</td>\n",
       "      <td>0.830460</td>\n",
       "      <td>0.803443</td>\n",
       "      <td>0.844615</td>\n",
       "    </tr>\n",
       "  </tbody>\n",
       "</table>\n",
       "</div>"
      ],
      "text/plain": [
       "   match id  team1  ...  metrics_ratio_last15 bowler_consistency_ratio_last15\n",
       "0  9272619   Me Ss  ...  0.779221              0.989726                      \n",
       "1  9086958   Na     ...  0.803443              0.844615                      \n",
       "\n",
       "[2 rows x 29 columns]"
      ]
     },
     "execution_count": 104,
     "metadata": {},
     "output_type": "execute_result"
    }
   ],
   "source": [
    "# In[41]:\n",
    "\n",
    "\n",
    "test_data.shape\n",
    "test_data.head(2)"
   ]
  },
  {
   "cell_type": "code",
   "execution_count": 105,
   "metadata": {},
   "outputs": [],
   "source": [
    "train_data.to_csv('train_data_with_samplefeatures.csv', index=False)\n",
    "test_data.to_csv('667a986f0b981_r2_data_with_samplefeatures.csv', index=False)"
   ]
  }
 ],
 "metadata": {
  "anaconda-cloud": {},
  "kernelspec": {
   "display_name": "Python 3 (ipykernel)",
   "language": "python",
   "name": "python3"
  },
  "language_info": {
   "codemirror_mode": {
    "name": "ipython",
    "version": 3
   },
   "file_extension": ".py",
   "mimetype": "text/x-python",
   "name": "python",
   "nbconvert_exporter": "python",
   "pygments_lexer": "ipython3",
   "version": "3.10.12"
  }
 },
 "nbformat": 4,
 "nbformat_minor": 4
}
